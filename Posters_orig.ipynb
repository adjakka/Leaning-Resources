{
 "cells": [
  {
   "cell_type": "code",
   "execution_count": 1,
   "metadata": {},
   "outputs": [],
   "source": [
    "#Importing required packages\n",
    "import pandas as pd\n",
    "import numpy as np\n",
    "import urllib.request\n",
    "import requests\n",
    "import os\n",
    "import cv2 #This module will help in converting and resizing the movie posters to 224x224 numpy arrays\n",
    "from IPython.display import Image \n",
    "from PIL import Image\n",
    "import requests\n",
    "from io import BytesIO\n",
    "import matplotlib.pyplot as plt\n",
    "import re"
   ]
  },
  {
   "cell_type": "markdown",
   "metadata": {},
   "source": [
    "We now load the IMDB interface file where the columns are separated by a tab space."
   ]
  },
  {
   "cell_type": "code",
   "execution_count": 33,
   "metadata": {},
   "outputs": [
    {
     "name": "stderr",
     "output_type": "stream",
     "text": [
      "C:\\Users\\Aditya\\Miniconda2\\envs\\py3point6\\lib\\site-packages\\IPython\\core\\interactiveshell.py:3020: DtypeWarning: Columns (5) have mixed types. Specify dtype option on import or set low_memory=False.\n",
      "  interactivity=interactivity, compiler=compiler, result=result)\n"
     ]
    }
   ],
   "source": [
    "d = pd.read_csv('data.csv', sep='\\t', header = 0)"
   ]
  },
  {
   "cell_type": "markdown",
   "metadata": {},
   "source": [
    "The first five rows of this dataset have been printed below. Each title is identified by a unique 'tconst', which is the IMDB ID. The 'startYear' and 'endYear' fields are more important for TV shows. For movies, the 'endYear' field does not contain a valid value."
   ]
  },
  {
   "cell_type": "code",
   "execution_count": 34,
   "metadata": {},
   "outputs": [
    {
     "data": {
      "text/html": [
       "<div>\n",
       "<style scoped>\n",
       "    .dataframe tbody tr th:only-of-type {\n",
       "        vertical-align: middle;\n",
       "    }\n",
       "\n",
       "    .dataframe tbody tr th {\n",
       "        vertical-align: top;\n",
       "    }\n",
       "\n",
       "    .dataframe thead th {\n",
       "        text-align: right;\n",
       "    }\n",
       "</style>\n",
       "<table border=\"1\" class=\"dataframe\">\n",
       "  <thead>\n",
       "    <tr style=\"text-align: right;\">\n",
       "      <th></th>\n",
       "      <th>tconst</th>\n",
       "      <th>titleType</th>\n",
       "      <th>primaryTitle</th>\n",
       "      <th>originalTitle</th>\n",
       "      <th>isAdult</th>\n",
       "      <th>startYear</th>\n",
       "      <th>endYear</th>\n",
       "      <th>runtimeMinutes</th>\n",
       "      <th>genres</th>\n",
       "    </tr>\n",
       "  </thead>\n",
       "  <tbody>\n",
       "    <tr>\n",
       "      <th>0</th>\n",
       "      <td>tt0000001</td>\n",
       "      <td>short</td>\n",
       "      <td>Carmencita</td>\n",
       "      <td>Carmencita</td>\n",
       "      <td>0</td>\n",
       "      <td>1894</td>\n",
       "      <td>\\N</td>\n",
       "      <td>1</td>\n",
       "      <td>Documentary,Short</td>\n",
       "    </tr>\n",
       "    <tr>\n",
       "      <th>1</th>\n",
       "      <td>tt0000002</td>\n",
       "      <td>short</td>\n",
       "      <td>Le clown et ses chiens</td>\n",
       "      <td>Le clown et ses chiens</td>\n",
       "      <td>0</td>\n",
       "      <td>1892</td>\n",
       "      <td>\\N</td>\n",
       "      <td>5</td>\n",
       "      <td>Animation,Short</td>\n",
       "    </tr>\n",
       "    <tr>\n",
       "      <th>2</th>\n",
       "      <td>tt0000003</td>\n",
       "      <td>short</td>\n",
       "      <td>Pauvre Pierrot</td>\n",
       "      <td>Pauvre Pierrot</td>\n",
       "      <td>0</td>\n",
       "      <td>1892</td>\n",
       "      <td>\\N</td>\n",
       "      <td>4</td>\n",
       "      <td>Animation,Comedy,Romance</td>\n",
       "    </tr>\n",
       "    <tr>\n",
       "      <th>3</th>\n",
       "      <td>tt0000004</td>\n",
       "      <td>short</td>\n",
       "      <td>Un bon bock</td>\n",
       "      <td>Un bon bock</td>\n",
       "      <td>0</td>\n",
       "      <td>1892</td>\n",
       "      <td>\\N</td>\n",
       "      <td>\\N</td>\n",
       "      <td>Animation,Short</td>\n",
       "    </tr>\n",
       "    <tr>\n",
       "      <th>4</th>\n",
       "      <td>tt0000005</td>\n",
       "      <td>short</td>\n",
       "      <td>Blacksmith Scene</td>\n",
       "      <td>Blacksmith Scene</td>\n",
       "      <td>0</td>\n",
       "      <td>1893</td>\n",
       "      <td>\\N</td>\n",
       "      <td>1</td>\n",
       "      <td>Comedy,Short</td>\n",
       "    </tr>\n",
       "  </tbody>\n",
       "</table>\n",
       "</div>"
      ],
      "text/plain": [
       "      tconst titleType            primaryTitle           originalTitle  \\\n",
       "0  tt0000001     short              Carmencita              Carmencita   \n",
       "1  tt0000002     short  Le clown et ses chiens  Le clown et ses chiens   \n",
       "2  tt0000003     short          Pauvre Pierrot          Pauvre Pierrot   \n",
       "3  tt0000004     short             Un bon bock             Un bon bock   \n",
       "4  tt0000005     short        Blacksmith Scene        Blacksmith Scene   \n",
       "\n",
       "   isAdult startYear endYear runtimeMinutes                    genres  \n",
       "0        0      1894      \\N              1         Documentary,Short  \n",
       "1        0      1892      \\N              5           Animation,Short  \n",
       "2        0      1892      \\N              4  Animation,Comedy,Romance  \n",
       "3        0      1892      \\N             \\N           Animation,Short  \n",
       "4        0      1893      \\N              1              Comedy,Short  "
      ]
     },
     "execution_count": 34,
     "metadata": {},
     "output_type": "execute_result"
    }
   ],
   "source": [
    "d.head()"
   ]
  },
  {
   "cell_type": "markdown",
   "metadata": {},
   "source": [
    "Only fields of importance are separated out from the original dataframe."
   ]
  },
  {
   "cell_type": "code",
   "execution_count": 35,
   "metadata": {},
   "outputs": [],
   "source": [
    "d1 = d[['tconst', 'titleType', 'originalTitle', 'startYear', 'genres']]"
   ]
  },
  {
   "cell_type": "markdown",
   "metadata": {},
   "source": [
    "Only movies are to considered for this analysis. Hence, the line of code below to achieve the same."
   ]
  },
  {
   "cell_type": "code",
   "execution_count": 36,
   "metadata": {},
   "outputs": [],
   "source": [
    "d1 = d1.loc[d1.titleType =='movie']"
   ]
  },
  {
   "cell_type": "code",
   "execution_count": 37,
   "metadata": {},
   "outputs": [
    {
     "data": {
      "text/plain": [
       "505039"
      ]
     },
     "execution_count": 37,
     "metadata": {},
     "output_type": "execute_result"
    }
   ],
   "source": [
    "len(d1)"
   ]
  },
  {
   "cell_type": "code",
   "execution_count": 38,
   "metadata": {},
   "outputs": [],
   "source": [
    "d1 = d1.dropna()"
   ]
  },
  {
   "cell_type": "markdown",
   "metadata": {},
   "source": [
    "The pandas dataframe below captures information of movies from the 60s."
   ]
  },
  {
   "cell_type": "code",
   "execution_count": 39,
   "metadata": {},
   "outputs": [],
   "source": [
    "d3 = d1.loc[(d1.startYear.str.contains('196')) | (d1.startYear.str.contains('197')) | (d1.startYear.str.contains('198')) | (d1.startYear.str.contains('199')) | (d1.startYear.str.contains('200')) | (d1.startYear.str.contains('201'))]"
   ]
  },
  {
   "cell_type": "markdown",
   "metadata": {},
   "source": [
    "The movies are sorted in ascending order by year."
   ]
  },
  {
   "cell_type": "code",
   "execution_count": 40,
   "metadata": {},
   "outputs": [],
   "source": [
    "d3  = d3.sort_values('startYear')"
   ]
  },
  {
   "cell_type": "markdown",
   "metadata": {},
   "source": [
    "Since the goal is to classify mainstream movies, documentaries will not be considered for analysis."
   ]
  },
  {
   "cell_type": "code",
   "execution_count": 41,
   "metadata": {},
   "outputs": [],
   "source": [
    "d5 = d3.loc[d3.genres.str.contains('Documentary') == False]"
   ]
  },
  {
   "cell_type": "code",
   "execution_count": 42,
   "metadata": {},
   "outputs": [
    {
     "data": {
      "text/plain": [
       "269662"
      ]
     },
     "execution_count": 42,
     "metadata": {},
     "output_type": "execute_result"
    }
   ],
   "source": [
    "len(d5)"
   ]
  },
  {
   "cell_type": "markdown",
   "metadata": {},
   "source": [
    "Movie posters after 2012 are to downloaded for the model. The dataframe below identifies all regular mainstream movies from 2013."
   ]
  },
  {
   "cell_type": "code",
   "execution_count": 43,
   "metadata": {},
   "outputs": [],
   "source": [
    "full_list = d5.loc[d5.startYear > '2012']"
   ]
  },
  {
   "cell_type": "code",
   "execution_count": 44,
   "metadata": {},
   "outputs": [
    {
     "data": {
      "text/plain": [
       "68588"
      ]
     },
     "execution_count": 44,
     "metadata": {},
     "output_type": "execute_result"
    }
   ],
   "source": [
    "len(full_list)"
   ]
  },
  {
   "cell_type": "markdown",
   "metadata": {},
   "source": [
    "Talk shows, adult movies, News, and other such rare genres will be excluded from analysis. The poster of a 'Talk-Show' movie would perhaps be identified as \"Drama\" by the classification model. 'Talk-Shows' as a genre can't be explicitly identified lke action, horror, adventure, commedy or animation movies. The other genres have been excluded for the very same reasons."
   ]
  },
  {
   "cell_type": "code",
   "execution_count": 45,
   "metadata": {},
   "outputs": [],
   "source": [
    "full_list_1 = full_list.loc[(full_list.genres.str.contains('Talk-Show') == False) & (full_list.genres.str.contains('Adult') == False) & (full_list.genres.str.contains('News') == False) & (full_list.genres.str.contains('Western') == False) & (full_list.genres.str.contains('Reality-TV') == False) & (full_list.genres.str.contains('Short') == False) & (full_list.genres.str.contains('Game-Show') == False)]"
   ]
  },
  {
   "cell_type": "code",
   "execution_count": 46,
   "metadata": {},
   "outputs": [
    {
     "data": {
      "text/plain": [
       "67817"
      ]
     },
     "execution_count": 46,
     "metadata": {},
     "output_type": "execute_result"
    }
   ],
   "source": [
    "len(full_list_1)"
   ]
  },
  {
   "cell_type": "markdown",
   "metadata": {},
   "source": [
    "A small subset of the modified pandas datafame has been printed below."
   ]
  },
  {
   "cell_type": "code",
   "execution_count": 47,
   "metadata": {},
   "outputs": [
    {
     "data": {
      "text/html": [
       "<div>\n",
       "<style scoped>\n",
       "    .dataframe tbody tr th:only-of-type {\n",
       "        vertical-align: middle;\n",
       "    }\n",
       "\n",
       "    .dataframe tbody tr th {\n",
       "        vertical-align: top;\n",
       "    }\n",
       "\n",
       "    .dataframe thead th {\n",
       "        text-align: right;\n",
       "    }\n",
       "</style>\n",
       "<table border=\"1\" class=\"dataframe\">\n",
       "  <thead>\n",
       "    <tr style=\"text-align: right;\">\n",
       "      <th></th>\n",
       "      <th>tconst</th>\n",
       "      <th>titleType</th>\n",
       "      <th>originalTitle</th>\n",
       "      <th>startYear</th>\n",
       "      <th>genres</th>\n",
       "    </tr>\n",
       "  </thead>\n",
       "  <tbody>\n",
       "    <tr>\n",
       "      <th>4313807</th>\n",
       "      <td>tt6964088</td>\n",
       "      <td>movie</td>\n",
       "      <td>201314</td>\n",
       "      <td>2013</td>\n",
       "      <td>\\N</td>\n",
       "    </tr>\n",
       "    <tr>\n",
       "      <th>4336272</th>\n",
       "      <td>tt7012128</td>\n",
       "      <td>movie</td>\n",
       "      <td>L'acteur, l'arnaqueur</td>\n",
       "      <td>2013</td>\n",
       "      <td>Action</td>\n",
       "    </tr>\n",
       "    <tr>\n",
       "      <th>4404919</th>\n",
       "      <td>tt7158090</td>\n",
       "      <td>movie</td>\n",
       "      <td>Killing 7</td>\n",
       "      <td>2013</td>\n",
       "      <td>Thriller</td>\n",
       "    </tr>\n",
       "    <tr>\n",
       "      <th>4478728</th>\n",
       "      <td>tt7315746</td>\n",
       "      <td>movie</td>\n",
       "      <td>Jeolmeun eomma</td>\n",
       "      <td>2013</td>\n",
       "      <td>Drama,Romance</td>\n",
       "    </tr>\n",
       "    <tr>\n",
       "      <th>4361583</th>\n",
       "      <td>tt7066046</td>\n",
       "      <td>movie</td>\n",
       "      <td>Left</td>\n",
       "      <td>2013</td>\n",
       "      <td>\\N</td>\n",
       "    </tr>\n",
       "    <tr>\n",
       "      <th>4277603</th>\n",
       "      <td>tt6886920</td>\n",
       "      <td>movie</td>\n",
       "      <td>The Bringer of Light</td>\n",
       "      <td>2013</td>\n",
       "      <td>Horror,Sci-Fi</td>\n",
       "    </tr>\n",
       "    <tr>\n",
       "      <th>4313389</th>\n",
       "      <td>tt6963172</td>\n",
       "      <td>movie</td>\n",
       "      <td>Tjuvgods</td>\n",
       "      <td>2013</td>\n",
       "      <td>\\N</td>\n",
       "    </tr>\n",
       "    <tr>\n",
       "      <th>5286823</th>\n",
       "      <td>tt9032082</td>\n",
       "      <td>movie</td>\n",
       "      <td>M-Agent</td>\n",
       "      <td>2013</td>\n",
       "      <td>Horror,Mystery,Thriller</td>\n",
       "    </tr>\n",
       "    <tr>\n",
       "      <th>2929940</th>\n",
       "      <td>tt3887836</td>\n",
       "      <td>movie</td>\n",
       "      <td>A Blossom of Love in Gannan</td>\n",
       "      <td>2013</td>\n",
       "      <td>Romance</td>\n",
       "    </tr>\n",
       "    <tr>\n",
       "      <th>4290679</th>\n",
       "      <td>tt6915090</td>\n",
       "      <td>movie</td>\n",
       "      <td>Pavithra</td>\n",
       "      <td>2013</td>\n",
       "      <td>Thriller</td>\n",
       "    </tr>\n",
       "    <tr>\n",
       "      <th>4452902</th>\n",
       "      <td>tt7260662</td>\n",
       "      <td>movie</td>\n",
       "      <td>I Guardiani di Atlantide</td>\n",
       "      <td>2013</td>\n",
       "      <td>Adventure</td>\n",
       "    </tr>\n",
       "  </tbody>\n",
       "</table>\n",
       "</div>"
      ],
      "text/plain": [
       "            tconst titleType                originalTitle startYear  \\\n",
       "4313807  tt6964088     movie                       201314      2013   \n",
       "4336272  tt7012128     movie        L'acteur, l'arnaqueur      2013   \n",
       "4404919  tt7158090     movie                    Killing 7      2013   \n",
       "4478728  tt7315746     movie               Jeolmeun eomma      2013   \n",
       "4361583  tt7066046     movie                         Left      2013   \n",
       "4277603  tt6886920     movie         The Bringer of Light      2013   \n",
       "4313389  tt6963172     movie                     Tjuvgods      2013   \n",
       "5286823  tt9032082     movie                      M-Agent      2013   \n",
       "2929940  tt3887836     movie  A Blossom of Love in Gannan      2013   \n",
       "4290679  tt6915090     movie                     Pavithra      2013   \n",
       "4452902  tt7260662     movie     I Guardiani di Atlantide      2013   \n",
       "\n",
       "                          genres  \n",
       "4313807                       \\N  \n",
       "4336272                   Action  \n",
       "4404919                 Thriller  \n",
       "4478728            Drama,Romance  \n",
       "4361583                       \\N  \n",
       "4277603            Horror,Sci-Fi  \n",
       "4313389                       \\N  \n",
       "5286823  Horror,Mystery,Thriller  \n",
       "2929940                  Romance  \n",
       "4290679                 Thriller  \n",
       "4452902                Adventure  "
      ]
     },
     "execution_count": 47,
     "metadata": {},
     "output_type": "execute_result"
    }
   ],
   "source": [
    "full_list_1.head(11)"
   ]
  },
  {
   "cell_type": "markdown",
   "metadata": {},
   "source": [
    "From the above subset dataframe, one can observe that a '\\N' has been assigned in genres column. This isn't labeled data and since the goal is to use supervised learning, all such rows will be excluded from analysis. The code below identifies all such rows using pattern matching."
   ]
  },
  {
   "cell_type": "code",
   "execution_count": 48,
   "metadata": {},
   "outputs": [
    {
     "name": "stderr",
     "output_type": "stream",
     "text": [
      "C:\\Users\\Aditya\\Miniconda2\\envs\\py3point6\\lib\\site-packages\\ipykernel_launcher.py:1: SettingWithCopyWarning: \n",
      "A value is trying to be set on a copy of a slice from a DataFrame.\n",
      "Try using .loc[row_indexer,col_indexer] = value instead\n",
      "\n",
      "See the caveats in the documentation: http://pandas.pydata.org/pandas-docs/stable/indexing.html#indexing-view-versus-copy\n",
      "  \"\"\"Entry point for launching an IPython kernel.\n"
     ]
    }
   ],
   "source": [
    "full_list_1['genres_2'] = full_list_1['genres'].apply(re.compile(r'\\\\N').search)"
   ]
  },
  {
   "cell_type": "markdown",
   "metadata": {},
   "source": [
    "A null is returned for the genres column where the pattern isn not identified. Hence, these rows will be selected for our analysis thereby dropping the rows with '\\N' for genre"
   ]
  },
  {
   "cell_type": "code",
   "execution_count": 49,
   "metadata": {},
   "outputs": [],
   "source": [
    "full_list_2 = full_list_1.loc[full_list_1.genres_2.isnull()]"
   ]
  },
  {
   "cell_type": "code",
   "execution_count": 50,
   "metadata": {},
   "outputs": [
    {
     "data": {
      "text/plain": [
       "63670"
      ]
     },
     "execution_count": 50,
     "metadata": {},
     "output_type": "execute_result"
    }
   ],
   "source": [
    "len(full_list_2)"
   ]
  },
  {
   "cell_type": "markdown",
   "metadata": {},
   "source": [
    "The index has been reset after the necessary rows have been dropped."
   ]
  },
  {
   "cell_type": "code",
   "execution_count": 51,
   "metadata": {},
   "outputs": [],
   "source": [
    "full_list_2 = full_list_2.reset_index()"
   ]
  },
  {
   "cell_type": "code",
   "execution_count": 52,
   "metadata": {},
   "outputs": [],
   "source": [
    "full_list_2 = full_list_2.drop(['index'], axis=1)"
   ]
  },
  {
   "cell_type": "code",
   "execution_count": 53,
   "metadata": {},
   "outputs": [
    {
     "data": {
      "text/plain": [
       "63670"
      ]
     },
     "execution_count": 53,
     "metadata": {},
     "output_type": "execute_result"
    }
   ],
   "source": [
    "len(full_list_2)"
   ]
  },
  {
   "cell_type": "markdown",
   "metadata": {},
   "source": [
    "An empty list, genres_list has been created below. This list will be used to identify the different genres in our interface file."
   ]
  },
  {
   "cell_type": "code",
   "execution_count": 54,
   "metadata": {},
   "outputs": [],
   "source": [
    "genres_list = []"
   ]
  },
  {
   "cell_type": "code",
   "execution_count": 55,
   "metadata": {},
   "outputs": [],
   "source": [
    "for j in full_list_2['genres']:     #Looping over the genres column of the dataframe.\n",
    "    words = j.split(',')            #The different genres have been separated by a comma. Hence this string will be split by identifying the ',' character.\n",
    "    for k in words:                 #Since the different list of words will be identified, the for loop will be used to iterate through all the different words in this list.\n",
    "        if k not in genres_list:    #Only uniquely identified strings will be appended.\n",
    "            genres_list.append(k)"
   ]
  },
  {
   "cell_type": "code",
   "execution_count": 56,
   "metadata": {},
   "outputs": [
    {
     "data": {
      "text/plain": [
       "19"
      ]
     },
     "execution_count": 56,
     "metadata": {},
     "output_type": "execute_result"
    }
   ],
   "source": [
    "len(genres_list)"
   ]
  },
  {
   "cell_type": "markdown",
   "metadata": {},
   "source": [
    "The genres list has been printed below. This list identifies the different genres in our interface file."
   ]
  },
  {
   "cell_type": "code",
   "execution_count": 57,
   "metadata": {},
   "outputs": [
    {
     "data": {
      "text/plain": [
       "['Action',\n",
       " 'Thriller',\n",
       " 'Drama',\n",
       " 'Romance',\n",
       " 'Horror',\n",
       " 'Sci-Fi',\n",
       " 'Mystery',\n",
       " 'Adventure',\n",
       " 'Animation',\n",
       " 'Crime',\n",
       " 'Comedy',\n",
       " 'Fantasy',\n",
       " 'Family',\n",
       " 'Music',\n",
       " 'History',\n",
       " 'War',\n",
       " 'Musical',\n",
       " 'Biography',\n",
       " 'Sport']"
      ]
     },
     "execution_count": 57,
     "metadata": {},
     "output_type": "execute_result"
    }
   ],
   "source": [
    "genres_list"
   ]
  },
  {
   "cell_type": "markdown",
   "metadata": {},
   "source": [
    "A new dictionary, genres_dict has been created to identify the counts of each of the genres. It is important to note that a single movie could belong to more than one genre."
   ]
  },
  {
   "cell_type": "code",
   "execution_count": 58,
   "metadata": {},
   "outputs": [],
   "source": [
    "genres_dict = {}"
   ]
  },
  {
   "cell_type": "code",
   "execution_count": 59,
   "metadata": {},
   "outputs": [],
   "source": [
    "for j in full_list_2['genres']:    #Looping over the genres column\n",
    "    words = j.split(',')           #Identifying the different genres\n",
    "    for k in words:\n",
    "        if k not in genres_dict:   #If the genre doesn't exist, it will be created as a new key\n",
    "            genres_dict[k] = 1    \n",
    "        else:\n",
    "            genres_dict[k] += 1            "
   ]
  },
  {
   "cell_type": "markdown",
   "metadata": {},
   "source": [
    "The dictionary, genres_dict has been printed below to identify counts of the various genres. It is important to note that summing the individual counts for each genre will not add up to the total length of the dataframe. This is because most movies belong to more than one genre."
   ]
  },
  {
   "cell_type": "code",
   "execution_count": 60,
   "metadata": {},
   "outputs": [
    {
     "data": {
      "text/plain": [
       "{'Action': 6865,\n",
       " 'Thriller': 8874,\n",
       " 'Drama': 31832,\n",
       " 'Romance': 6305,\n",
       " 'Horror': 7809,\n",
       " 'Sci-Fi': 2540,\n",
       " 'Mystery': 3208,\n",
       " 'Adventure': 3241,\n",
       " 'Animation': 2019,\n",
       " 'Crime': 4399,\n",
       " 'Comedy': 16691,\n",
       " 'Fantasy': 2470,\n",
       " 'Family': 3088,\n",
       " 'Music': 1193,\n",
       " 'History': 1229,\n",
       " 'War': 579,\n",
       " 'Musical': 816,\n",
       " 'Biography': 1467,\n",
       " 'Sport': 637}"
      ]
     },
     "execution_count": 60,
     "metadata": {},
     "output_type": "execute_result"
    }
   ],
   "source": [
    "genres_dict"
   ]
  },
  {
   "cell_type": "markdown",
   "metadata": {},
   "source": [
    "Next, the genres_2 column has been excluded as this column was only used to identify rows with a '\\N' for genre. It is no longer needed."
   ]
  },
  {
   "cell_type": "code",
   "execution_count": 61,
   "metadata": {},
   "outputs": [],
   "source": [
    "full_list_2 = full_list_2.drop(['genres_2'], axis = 1)"
   ]
  },
  {
   "cell_type": "markdown",
   "metadata": {},
   "source": [
    "A string, 'Numpy_Img' has been added to the genres_list. This list will be used to create a new Pandas dataframe."
   ]
  },
  {
   "cell_type": "code",
   "execution_count": 62,
   "metadata": {},
   "outputs": [],
   "source": [
    "genres_list.append('Numpy_Img')"
   ]
  },
  {
   "cell_type": "markdown",
   "metadata": {},
   "source": [
    "The pandas dataframe has been created with 40000 rows with NaN values."
   ]
  },
  {
   "cell_type": "code",
   "execution_count": 63,
   "metadata": {},
   "outputs": [],
   "source": [
    "genres_df = pd.DataFrame(columns=genres_list, index=range(40000))"
   ]
  },
  {
   "cell_type": "markdown",
   "metadata": {},
   "source": [
    "The TMDB (The Movies Database) API will be used to download movie posters. To download the posters, the TMDB API key is required. It is a site that is free to use with registration."
   ]
  },
  {
   "cell_type": "code",
   "execution_count": 64,
   "metadata": {},
   "outputs": [],
   "source": [
    "KEY = 'a997c6a74e5b2d33c1e329b556a1769d'"
   ]
  },
  {
   "cell_type": "markdown",
   "metadata": {},
   "source": [
    "The next cell will give a verbose description of what the count variable, 'count_var' is and how the posters will be downloaded."
   ]
  },
  {
   "cell_type": "markdown",
   "metadata": {},
   "source": [
    "The count_var will be used to identify the index of the now empty genres dataframe. For each uniquely identified index, The Numpy_Img column will contain the movie poster resized to 224x224 with the RGB channel information intact. The other columns in the dataframe are the 19 uniquely identified genres. If a movie belong to the genres, 'Action' and 'Adventure', then the 'Action' and 'Adventure' columns will be assigned a 1.0. The other genre columns will contain a 0. Simply considering the genre columns, one could think of this as a sparse matrix as this matrix mostly contains 0s."
   ]
  },
  {
   "cell_type": "code",
   "execution_count": 65,
   "metadata": {},
   "outputs": [],
   "source": [
    "count_var = 0"
   ]
  },
  {
   "cell_type": "code",
   "execution_count": 82,
   "metadata": {},
   "outputs": [
    {
     "name": "stdout",
     "output_type": "stream",
     "text": [
      "11\n",
      "15\n",
      "28\n",
      "33\n",
      "65\n",
      "66\n",
      "67\n",
      "68\n",
      "78\n",
      "86\n",
      "98\n"
     ]
    }
   ],
   "source": [
    "for index, i in full_list_2.iterrows():      # Looping over the modified interface file with mainstream movies after 2012\n",
    "    IMG_PATTERN = 'http://api.themoviedb.org/3/movie/{imdbid}/images?api_key={key}' # The URL pattern for the movie posters. With the key and IMDB ID, the generated URL can be used to download the posters.\n",
    "    r = requests.get(IMG_PATTERN.format(key=KEY,imdbid=i[0])) # KEY is the API key and i[0] identifies the unique IMDB ID.\n",
    "    api_response = r.json() # The generated response is converted to json.\n",
    "    try:                    # Some of the movies do not contain any information and much less, any posters. Hence, exception handling will be used to avoid errors during runtime\n",
    "        posters = api_response['posters'] # Contains information about the movie posters to be downloaded.\n",
    "    except KeyError:\n",
    "        continue            # 'continue' can only be used in a loop. This command moves on the next row if no vible information is found.\n",
    "    \n",
    "    base_url = 'http://image.tmdb.org/t/p/'  # The base url for the TMDB API\n",
    "    max_size = 'w342'                        # Movie sizes are available in different sizes: w342, w500, and orignal. w342 images are smaller than w500 and 'original' images.\n",
    "    try:                                     # Some movies do not have posters and hence, exception handling will be used to avoid runtime errors\n",
    "        rel_path = posters[0]['file_path']   # Some movies have multiple posters. A few movies have up to 9 posters or so. What's even more bothersome is that some of them are duplicates. Hence, onlyone image per movie will be used.\n",
    "    except IndexError:\n",
    "        continue\n",
    "    url = \"{0}{1}{2}\".format(base_url, max_size, rel_path) # If the movie does have a poster, this step generated the movie poster url\n",
    "      \n",
    "    try:                                                          #Exception handling will be used since some of the URLs will not open or throw an error.\n",
    "        resp = urllib.request.urlopen(url)                        # This step read the image from the url\n",
    "        image = np.asarray(bytearray(resp.read()), dtype='uint8') # The read image is then converted to an array\n",
    "        image = cv2.imdecode(image, cv2.IMREAD_COLOR)             # The images are read keeping the color (RGB) information intact\n",
    "        new_img = cv2.resize(image, (224,224), interpolation=cv2.INTER_CUBIC) # Images re resized using Inter_cubic interpolation.\n",
    "        \n",
    "        someRowNumber = count_var # To each identify each index.\n",
    "        words = i[4].split(',')   # Identify the different genres        \n",
    "        genres_df.loc[genres_df.index[someRowNumber], 'Numpy_Img'] = new_img #The Numpy_Img column will contain the 224x224 resized posters.\n",
    "        for k in words:\n",
    "            genres_df.loc[genres_df.index[someRowNumber], k] = 1.0 #A 1.0 will be assigned to that genre column.\n",
    "        count_var+=1  # The count variable will be reset so that the next row will be used for the next movie.\n",
    "        print(index)  # Printing the index to keep track of progress.\n",
    "    except urllib.error.URLError as e:\n",
    "        print(e.reason)       \n",
    "        \n",
    "collected_images = genres_df.loc[genres_df['Numpy_Img'].notnull()] # Identify only rows that contain movie data.\n",
    "collected_images_df = collected_images.fillna(0)                   # NaN values for the genre columns are filled with 0.\n",
    "collected_images_df.to_pickle('frame_1.pkl')                       # The dataframe is exported to a pickle file."
   ]
  },
  {
   "cell_type": "markdown",
   "metadata": {},
   "source": [
    "The dataframe will now be loaded back"
   ]
  },
  {
   "cell_type": "code",
   "execution_count": 83,
   "metadata": {},
   "outputs": [],
   "source": [
    "genres_dataframe = pd.read_pickle('frame_1.pkl')"
   ]
  },
  {
   "cell_type": "code",
   "execution_count": 84,
   "metadata": {},
   "outputs": [
    {
     "data": {
      "text/plain": [
       "23"
      ]
     },
     "execution_count": 84,
     "metadata": {},
     "output_type": "execute_result"
    }
   ],
   "source": [
    "len(genres_dataframe)"
   ]
  },
  {
   "cell_type": "code",
   "execution_count": 85,
   "metadata": {},
   "outputs": [
    {
     "data": {
      "text/html": [
       "<div>\n",
       "<style scoped>\n",
       "    .dataframe tbody tr th:only-of-type {\n",
       "        vertical-align: middle;\n",
       "    }\n",
       "\n",
       "    .dataframe tbody tr th {\n",
       "        vertical-align: top;\n",
       "    }\n",
       "\n",
       "    .dataframe thead th {\n",
       "        text-align: right;\n",
       "    }\n",
       "</style>\n",
       "<table border=\"1\" class=\"dataframe\">\n",
       "  <thead>\n",
       "    <tr style=\"text-align: right;\">\n",
       "      <th></th>\n",
       "      <th>Action</th>\n",
       "      <th>Thriller</th>\n",
       "      <th>Drama</th>\n",
       "      <th>Romance</th>\n",
       "      <th>Horror</th>\n",
       "      <th>Sci-Fi</th>\n",
       "      <th>Mystery</th>\n",
       "      <th>Adventure</th>\n",
       "      <th>Animation</th>\n",
       "      <th>Crime</th>\n",
       "      <th>Comedy</th>\n",
       "      <th>Fantasy</th>\n",
       "      <th>Family</th>\n",
       "      <th>Music</th>\n",
       "      <th>History</th>\n",
       "      <th>War</th>\n",
       "      <th>Musical</th>\n",
       "      <th>Biography</th>\n",
       "      <th>Sport</th>\n",
       "      <th>Numpy_Img</th>\n",
       "    </tr>\n",
       "  </thead>\n",
       "  <tbody>\n",
       "    <tr>\n",
       "      <th>0</th>\n",
       "      <td>0</td>\n",
       "      <td>0.0</td>\n",
       "      <td>0.0</td>\n",
       "      <td>0</td>\n",
       "      <td>0.0</td>\n",
       "      <td>1.0</td>\n",
       "      <td>0</td>\n",
       "      <td>0.0</td>\n",
       "      <td>1.0</td>\n",
       "      <td>0</td>\n",
       "      <td>0.0</td>\n",
       "      <td>0</td>\n",
       "      <td>0.0</td>\n",
       "      <td>0</td>\n",
       "      <td>0</td>\n",
       "      <td>0</td>\n",
       "      <td>0</td>\n",
       "      <td>0</td>\n",
       "      <td>0.0</td>\n",
       "      <td>[[[4, 0, 1], [4, 0, 0], [4, 0, 0], [3, 1, 0], ...</td>\n",
       "    </tr>\n",
       "    <tr>\n",
       "      <th>1</th>\n",
       "      <td>0</td>\n",
       "      <td>0.0</td>\n",
       "      <td>0.0</td>\n",
       "      <td>0</td>\n",
       "      <td>0.0</td>\n",
       "      <td>0.0</td>\n",
       "      <td>0</td>\n",
       "      <td>0.0</td>\n",
       "      <td>0.0</td>\n",
       "      <td>0</td>\n",
       "      <td>1.0</td>\n",
       "      <td>0</td>\n",
       "      <td>0.0</td>\n",
       "      <td>0</td>\n",
       "      <td>0</td>\n",
       "      <td>0</td>\n",
       "      <td>0</td>\n",
       "      <td>0</td>\n",
       "      <td>0.0</td>\n",
       "      <td>[[[58, 194, 170], [58, 194, 170], [58, 194, 17...</td>\n",
       "    </tr>\n",
       "  </tbody>\n",
       "</table>\n",
       "</div>"
      ],
      "text/plain": [
       "   Action  Thriller  Drama  Romance  Horror  Sci-Fi  Mystery  Adventure  \\\n",
       "0       0       0.0    0.0        0     0.0     1.0        0        0.0   \n",
       "1       0       0.0    0.0        0     0.0     0.0        0        0.0   \n",
       "\n",
       "   Animation  Crime  Comedy  Fantasy  Family  Music  History  War  Musical  \\\n",
       "0        1.0      0     0.0        0     0.0      0        0    0        0   \n",
       "1        0.0      0     1.0        0     0.0      0        0    0        0   \n",
       "\n",
       "   Biography  Sport                                          Numpy_Img  \n",
       "0          0    0.0  [[[4, 0, 1], [4, 0, 0], [4, 0, 0], [3, 1, 0], ...  \n",
       "1          0    0.0  [[[58, 194, 170], [58, 194, 170], [58, 194, 17...  "
      ]
     },
     "execution_count": 85,
     "metadata": {},
     "output_type": "execute_result"
    }
   ],
   "source": [
    "genres_dataframe.head(2)"
   ]
  },
  {
   "cell_type": "code",
   "execution_count": 89,
   "metadata": {},
   "outputs": [
    {
     "data": {
      "text/plain": [
       "<matplotlib.image.AxesImage at 0x2de6007e7b8>"
      ]
     },
     "execution_count": 89,
     "metadata": {},
     "output_type": "execute_result"
    },
    {
     "data": {
      "image/png": "[encoded data removed]",
      "text/plain": [
       "<Figure size 432x288 with 1 Axes>"
      ]
     },
     "metadata": {
      "needs_background": "light"
     },
     "output_type": "display_data"
    }
   ],
   "source": [
    "plt.imshow(genres_dataframe['Numpy_Img'].loc[7])"
   ]
  },
  {
   "cell_type": "code",
   "execution_count": 9,
   "metadata": {},
   "outputs": [
    {
     "data": {
      "text/plain": [
       "(224, 224, 3)"
      ]
     },
     "execution_count": 9,
     "metadata": {},
     "output_type": "execute_result"
    }
   ],
   "source": [
    "genres_dataframe['Numpy_Img'].loc[100].shape"
   ]
  },
  {
   "cell_type": "code",
   "execution_count": 10,
   "metadata": {},
   "outputs": [
    {
     "data": {
      "text/plain": [
       "numpy.ndarray"
      ]
     },
     "execution_count": 10,
     "metadata": {},
     "output_type": "execute_result"
    }
   ],
   "source": [
    "type(genres_dataframe['Numpy_Img'].loc[100])"
   ]
  }
 ],
 "metadata": {
  "kernelspec": {
   "display_name": "py36-t",
   "language": "python",
   "name": "py36-t"
  },
  "language_info": {
   "codemirror_mode": {
    "name": "ipython",
    "version": 3
   },
   "file_extension": ".py",
   "mimetype": "text/x-python",
   "name": "python",
   "nbconvert_exporter": "python",
   "pygments_lexer": "ipython3",
   "version": "3.6.6"
  }
 },
 "nbformat": 4,
 "nbformat_minor": 2
}
