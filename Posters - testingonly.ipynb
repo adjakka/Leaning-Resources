{
 "cells": [
  {
   "cell_type": "code",
   "execution_count": 1,
   "metadata": {},
   "outputs": [],
   "source": [
    "import pandas as pd\n",
    "import numpy as np\n",
    "import urllib.request\n",
    "import requests\n",
    "import os"
   ]
  },
  {
   "cell_type": "code",
   "execution_count": 2,
   "metadata": {},
   "outputs": [
    {
     "name": "stderr",
     "output_type": "stream",
     "text": [
      "C:\\Users\\Aditya\\Miniconda2\\envs\\py3point6\\lib\\site-packages\\IPython\\core\\interactiveshell.py:3020: DtypeWarning: Columns (5) have mixed types. Specify dtype option on import or set low_memory=False.\n",
      "  interactivity=interactivity, compiler=compiler, result=result)\n"
     ]
    }
   ],
   "source": [
    "d = pd.read_csv('data.csv', sep='\\t', header = 0)"
   ]
  },
  {
   "cell_type": "code",
   "execution_count": 3,
   "metadata": {},
   "outputs": [
    {
     "data": {
      "text/html": [
       "<div>\n",
       "<style scoped>\n",
       "    .dataframe tbody tr th:only-of-type {\n",
       "        vertical-align: middle;\n",
       "    }\n",
       "\n",
       "    .dataframe tbody tr th {\n",
       "        vertical-align: top;\n",
       "    }\n",
       "\n",
       "    .dataframe thead th {\n",
       "        text-align: right;\n",
       "    }\n",
       "</style>\n",
       "<table border=\"1\" class=\"dataframe\">\n",
       "  <thead>\n",
       "    <tr style=\"text-align: right;\">\n",
       "      <th></th>\n",
       "      <th>tconst</th>\n",
       "      <th>titleType</th>\n",
       "      <th>primaryTitle</th>\n",
       "      <th>originalTitle</th>\n",
       "      <th>isAdult</th>\n",
       "      <th>startYear</th>\n",
       "      <th>endYear</th>\n",
       "      <th>runtimeMinutes</th>\n",
       "      <th>genres</th>\n",
       "    </tr>\n",
       "  </thead>\n",
       "  <tbody>\n",
       "    <tr>\n",
       "      <th>0</th>\n",
       "      <td>tt0000001</td>\n",
       "      <td>short</td>\n",
       "      <td>Carmencita</td>\n",
       "      <td>Carmencita</td>\n",
       "      <td>0</td>\n",
       "      <td>1894</td>\n",
       "      <td>\\N</td>\n",
       "      <td>1</td>\n",
       "      <td>Documentary,Short</td>\n",
       "    </tr>\n",
       "    <tr>\n",
       "      <th>1</th>\n",
       "      <td>tt0000002</td>\n",
       "      <td>short</td>\n",
       "      <td>Le clown et ses chiens</td>\n",
       "      <td>Le clown et ses chiens</td>\n",
       "      <td>0</td>\n",
       "      <td>1892</td>\n",
       "      <td>\\N</td>\n",
       "      <td>5</td>\n",
       "      <td>Animation,Short</td>\n",
       "    </tr>\n",
       "    <tr>\n",
       "      <th>2</th>\n",
       "      <td>tt0000003</td>\n",
       "      <td>short</td>\n",
       "      <td>Pauvre Pierrot</td>\n",
       "      <td>Pauvre Pierrot</td>\n",
       "      <td>0</td>\n",
       "      <td>1892</td>\n",
       "      <td>\\N</td>\n",
       "      <td>4</td>\n",
       "      <td>Animation,Comedy,Romance</td>\n",
       "    </tr>\n",
       "    <tr>\n",
       "      <th>3</th>\n",
       "      <td>tt0000004</td>\n",
       "      <td>short</td>\n",
       "      <td>Un bon bock</td>\n",
       "      <td>Un bon bock</td>\n",
       "      <td>0</td>\n",
       "      <td>1892</td>\n",
       "      <td>\\N</td>\n",
       "      <td>\\N</td>\n",
       "      <td>Animation,Short</td>\n",
       "    </tr>\n",
       "    <tr>\n",
       "      <th>4</th>\n",
       "      <td>tt0000005</td>\n",
       "      <td>short</td>\n",
       "      <td>Blacksmith Scene</td>\n",
       "      <td>Blacksmith Scene</td>\n",
       "      <td>0</td>\n",
       "      <td>1893</td>\n",
       "      <td>\\N</td>\n",
       "      <td>1</td>\n",
       "      <td>Comedy,Short</td>\n",
       "    </tr>\n",
       "  </tbody>\n",
       "</table>\n",
       "</div>"
      ],
      "text/plain": [
       "      tconst titleType            primaryTitle           originalTitle  \\\n",
       "0  tt0000001     short              Carmencita              Carmencita   \n",
       "1  tt0000002     short  Le clown et ses chiens  Le clown et ses chiens   \n",
       "2  tt0000003     short          Pauvre Pierrot          Pauvre Pierrot   \n",
       "3  tt0000004     short             Un bon bock             Un bon bock   \n",
       "4  tt0000005     short        Blacksmith Scene        Blacksmith Scene   \n",
       "\n",
       "   isAdult startYear endYear runtimeMinutes                    genres  \n",
       "0        0      1894      \\N              1         Documentary,Short  \n",
       "1        0      1892      \\N              5           Animation,Short  \n",
       "2        0      1892      \\N              4  Animation,Comedy,Romance  \n",
       "3        0      1892      \\N             \\N           Animation,Short  \n",
       "4        0      1893      \\N              1              Comedy,Short  "
      ]
     },
     "execution_count": 3,
     "metadata": {},
     "output_type": "execute_result"
    }
   ],
   "source": [
    "d.head()"
   ]
  },
  {
   "cell_type": "code",
   "execution_count": 4,
   "metadata": {},
   "outputs": [],
   "source": [
    "d1 = d[['tconst', 'titleType', 'originalTitle', 'startYear', 'genres']]"
   ]
  },
  {
   "cell_type": "code",
   "execution_count": 5,
   "metadata": {},
   "outputs": [],
   "source": [
    "d1 = d1.loc[d1.titleType =='movie']"
   ]
  },
  {
   "cell_type": "code",
   "execution_count": 6,
   "metadata": {},
   "outputs": [
    {
     "data": {
      "text/plain": [
       "505039"
      ]
     },
     "execution_count": 6,
     "metadata": {},
     "output_type": "execute_result"
    }
   ],
   "source": [
    "len(d1)"
   ]
  },
  {
   "cell_type": "code",
   "execution_count": 7,
   "metadata": {},
   "outputs": [],
   "source": [
    "d1 = d1.dropna()"
   ]
  },
  {
   "cell_type": "code",
   "execution_count": 8,
   "metadata": {},
   "outputs": [],
   "source": [
    "d3 = d1.loc[(d1.startYear.str.contains('196')) | (d1.startYear.str.contains('197')) | (d1.startYear.str.contains('198')) | (d1.startYear.str.contains('199')) | (d1.startYear.str.contains('200')) | (d1.startYear.str.contains('201'))]"
   ]
  },
  {
   "cell_type": "code",
   "execution_count": 9,
   "metadata": {},
   "outputs": [],
   "source": [
    "d3  = d3.sort_values('startYear')"
   ]
  },
  {
   "cell_type": "code",
   "execution_count": 10,
   "metadata": {},
   "outputs": [],
   "source": [
    "d5 = d3.loc[d3.genres.str.contains('Documentary') == False]"
   ]
  },
  {
   "cell_type": "code",
   "execution_count": 11,
   "metadata": {},
   "outputs": [
    {
     "data": {
      "text/plain": [
       "269662"
      ]
     },
     "execution_count": 11,
     "metadata": {},
     "output_type": "execute_result"
    }
   ],
   "source": [
    "len(d5)"
   ]
  },
  {
   "cell_type": "code",
   "execution_count": 12,
   "metadata": {},
   "outputs": [],
   "source": [
    "full_list = d5.loc[d5.startYear > '2012']"
   ]
  },
  {
   "cell_type": "code",
   "execution_count": 13,
   "metadata": {},
   "outputs": [
    {
     "data": {
      "text/plain": [
       "68588"
      ]
     },
     "execution_count": 13,
     "metadata": {},
     "output_type": "execute_result"
    }
   ],
   "source": [
    "len(full_list)"
   ]
  },
  {
   "cell_type": "code",
   "execution_count": 14,
   "metadata": {},
   "outputs": [],
   "source": [
    "full_list_1 = full_list.loc[(full_list.genres.str.contains('Talk-Show') == False) & (full_list.genres.str.contains('Adult') == False) & (full_list.genres.str.contains('News') == False) & (full_list.genres.str.contains('Western') == False) & (full_list.genres.str.contains('Reality-TV') == False) & (full_list.genres.str.contains('Short') == False) & (full_list.genres.str.contains('Game-Show') == False)]"
   ]
  },
  {
   "cell_type": "code",
   "execution_count": 15,
   "metadata": {},
   "outputs": [
    {
     "data": {
      "text/plain": [
       "67817"
      ]
     },
     "execution_count": 15,
     "metadata": {},
     "output_type": "execute_result"
    }
   ],
   "source": [
    "len(full_list_1)"
   ]
  },
  {
   "cell_type": "code",
   "execution_count": 16,
   "metadata": {},
   "outputs": [],
   "source": [
    "import re"
   ]
  },
  {
   "cell_type": "code",
   "execution_count": 17,
   "metadata": {},
   "outputs": [
    {
     "data": {
      "text/html": [
       "<div>\n",
       "<style scoped>\n",
       "    .dataframe tbody tr th:only-of-type {\n",
       "        vertical-align: middle;\n",
       "    }\n",
       "\n",
       "    .dataframe tbody tr th {\n",
       "        vertical-align: top;\n",
       "    }\n",
       "\n",
       "    .dataframe thead th {\n",
       "        text-align: right;\n",
       "    }\n",
       "</style>\n",
       "<table border=\"1\" class=\"dataframe\">\n",
       "  <thead>\n",
       "    <tr style=\"text-align: right;\">\n",
       "      <th></th>\n",
       "      <th>tconst</th>\n",
       "      <th>titleType</th>\n",
       "      <th>originalTitle</th>\n",
       "      <th>startYear</th>\n",
       "      <th>genres</th>\n",
       "    </tr>\n",
       "  </thead>\n",
       "  <tbody>\n",
       "    <tr>\n",
       "      <th>4313807</th>\n",
       "      <td>tt6964088</td>\n",
       "      <td>movie</td>\n",
       "      <td>201314</td>\n",
       "      <td>2013</td>\n",
       "      <td>\\N</td>\n",
       "    </tr>\n",
       "    <tr>\n",
       "      <th>4336272</th>\n",
       "      <td>tt7012128</td>\n",
       "      <td>movie</td>\n",
       "      <td>L'acteur, l'arnaqueur</td>\n",
       "      <td>2013</td>\n",
       "      <td>Action</td>\n",
       "    </tr>\n",
       "    <tr>\n",
       "      <th>4404919</th>\n",
       "      <td>tt7158090</td>\n",
       "      <td>movie</td>\n",
       "      <td>Killing 7</td>\n",
       "      <td>2013</td>\n",
       "      <td>Thriller</td>\n",
       "    </tr>\n",
       "    <tr>\n",
       "      <th>4478728</th>\n",
       "      <td>tt7315746</td>\n",
       "      <td>movie</td>\n",
       "      <td>Jeolmeun eomma</td>\n",
       "      <td>2013</td>\n",
       "      <td>Drama,Romance</td>\n",
       "    </tr>\n",
       "    <tr>\n",
       "      <th>4361583</th>\n",
       "      <td>tt7066046</td>\n",
       "      <td>movie</td>\n",
       "      <td>Left</td>\n",
       "      <td>2013</td>\n",
       "      <td>\\N</td>\n",
       "    </tr>\n",
       "    <tr>\n",
       "      <th>4277603</th>\n",
       "      <td>tt6886920</td>\n",
       "      <td>movie</td>\n",
       "      <td>The Bringer of Light</td>\n",
       "      <td>2013</td>\n",
       "      <td>Horror,Sci-Fi</td>\n",
       "    </tr>\n",
       "    <tr>\n",
       "      <th>4313389</th>\n",
       "      <td>tt6963172</td>\n",
       "      <td>movie</td>\n",
       "      <td>Tjuvgods</td>\n",
       "      <td>2013</td>\n",
       "      <td>\\N</td>\n",
       "    </tr>\n",
       "    <tr>\n",
       "      <th>5286823</th>\n",
       "      <td>tt9032082</td>\n",
       "      <td>movie</td>\n",
       "      <td>M-Agent</td>\n",
       "      <td>2013</td>\n",
       "      <td>Horror,Mystery,Thriller</td>\n",
       "    </tr>\n",
       "    <tr>\n",
       "      <th>2929940</th>\n",
       "      <td>tt3887836</td>\n",
       "      <td>movie</td>\n",
       "      <td>A Blossom of Love in Gannan</td>\n",
       "      <td>2013</td>\n",
       "      <td>Romance</td>\n",
       "    </tr>\n",
       "    <tr>\n",
       "      <th>4290679</th>\n",
       "      <td>tt6915090</td>\n",
       "      <td>movie</td>\n",
       "      <td>Pavithra</td>\n",
       "      <td>2013</td>\n",
       "      <td>Thriller</td>\n",
       "    </tr>\n",
       "    <tr>\n",
       "      <th>4452902</th>\n",
       "      <td>tt7260662</td>\n",
       "      <td>movie</td>\n",
       "      <td>I Guardiani di Atlantide</td>\n",
       "      <td>2013</td>\n",
       "      <td>Adventure</td>\n",
       "    </tr>\n",
       "  </tbody>\n",
       "</table>\n",
       "</div>"
      ],
      "text/plain": [
       "            tconst titleType                originalTitle startYear  \\\n",
       "4313807  tt6964088     movie                       201314      2013   \n",
       "4336272  tt7012128     movie        L'acteur, l'arnaqueur      2013   \n",
       "4404919  tt7158090     movie                    Killing 7      2013   \n",
       "4478728  tt7315746     movie               Jeolmeun eomma      2013   \n",
       "4361583  tt7066046     movie                         Left      2013   \n",
       "4277603  tt6886920     movie         The Bringer of Light      2013   \n",
       "4313389  tt6963172     movie                     Tjuvgods      2013   \n",
       "5286823  tt9032082     movie                      M-Agent      2013   \n",
       "2929940  tt3887836     movie  A Blossom of Love in Gannan      2013   \n",
       "4290679  tt6915090     movie                     Pavithra      2013   \n",
       "4452902  tt7260662     movie     I Guardiani di Atlantide      2013   \n",
       "\n",
       "                          genres  \n",
       "4313807                       \\N  \n",
       "4336272                   Action  \n",
       "4404919                 Thriller  \n",
       "4478728            Drama,Romance  \n",
       "4361583                       \\N  \n",
       "4277603            Horror,Sci-Fi  \n",
       "4313389                       \\N  \n",
       "5286823  Horror,Mystery,Thriller  \n",
       "2929940                  Romance  \n",
       "4290679                 Thriller  \n",
       "4452902                Adventure  "
      ]
     },
     "execution_count": 17,
     "metadata": {},
     "output_type": "execute_result"
    }
   ],
   "source": [
    "full_list_1.head(11)"
   ]
  },
  {
   "cell_type": "code",
   "execution_count": 18,
   "metadata": {},
   "outputs": [
    {
     "name": "stderr",
     "output_type": "stream",
     "text": [
      "C:\\Users\\Aditya\\Miniconda2\\envs\\py3point6\\lib\\site-packages\\ipykernel_launcher.py:1: SettingWithCopyWarning: \n",
      "A value is trying to be set on a copy of a slice from a DataFrame.\n",
      "Try using .loc[row_indexer,col_indexer] = value instead\n",
      "\n",
      "See the caveats in the documentation: http://pandas.pydata.org/pandas-docs/stable/indexing.html#indexing-view-versus-copy\n",
      "  \"\"\"Entry point for launching an IPython kernel.\n"
     ]
    }
   ],
   "source": [
    "full_list_1['genres_2'] = full_list_1['genres'].apply(re.compile(r'\\\\N').search)"
   ]
  },
  {
   "cell_type": "code",
   "execution_count": 19,
   "metadata": {},
   "outputs": [],
   "source": [
    "full_list_2 = full_list_1.loc[full_list_1.genres_2.isnull()]"
   ]
  },
  {
   "cell_type": "code",
   "execution_count": 20,
   "metadata": {},
   "outputs": [
    {
     "data": {
      "text/plain": [
       "63670"
      ]
     },
     "execution_count": 20,
     "metadata": {},
     "output_type": "execute_result"
    }
   ],
   "source": [
    "len(full_list_2)"
   ]
  },
  {
   "cell_type": "code",
   "execution_count": 21,
   "metadata": {},
   "outputs": [],
   "source": [
    "full_list_2 = full_list_2.reset_index()"
   ]
  },
  {
   "cell_type": "code",
   "execution_count": 22,
   "metadata": {},
   "outputs": [],
   "source": [
    "full_list_2 = full_list_2.drop(['index'], axis=1)"
   ]
  },
  {
   "cell_type": "code",
   "execution_count": 23,
   "metadata": {},
   "outputs": [
    {
     "data": {
      "text/plain": [
       "63670"
      ]
     },
     "execution_count": 23,
     "metadata": {},
     "output_type": "execute_result"
    }
   ],
   "source": [
    "len(full_list_2)"
   ]
  },
  {
   "cell_type": "code",
   "execution_count": 24,
   "metadata": {},
   "outputs": [],
   "source": [
    "genres_list = []"
   ]
  },
  {
   "cell_type": "code",
   "execution_count": 25,
   "metadata": {},
   "outputs": [],
   "source": [
    "for j in full_list_2['genres']:\n",
    "    words = j.split(',')\n",
    "    for k in words:\n",
    "        if k not in genres_list:\n",
    "            genres_list.append(k)"
   ]
  },
  {
   "cell_type": "code",
   "execution_count": 26,
   "metadata": {},
   "outputs": [
    {
     "data": {
      "text/plain": [
       "19"
      ]
     },
     "execution_count": 26,
     "metadata": {},
     "output_type": "execute_result"
    }
   ],
   "source": [
    "len(genres_list)"
   ]
  },
  {
   "cell_type": "code",
   "execution_count": 27,
   "metadata": {},
   "outputs": [
    {
     "data": {
      "text/plain": [
       "['Action',\n",
       " 'Thriller',\n",
       " 'Drama',\n",
       " 'Romance',\n",
       " 'Horror',\n",
       " 'Sci-Fi',\n",
       " 'Mystery',\n",
       " 'Adventure',\n",
       " 'Animation',\n",
       " 'Crime',\n",
       " 'Comedy',\n",
       " 'Fantasy',\n",
       " 'Family',\n",
       " 'Music',\n",
       " 'History',\n",
       " 'War',\n",
       " 'Musical',\n",
       " 'Biography',\n",
       " 'Sport']"
      ]
     },
     "execution_count": 27,
     "metadata": {},
     "output_type": "execute_result"
    }
   ],
   "source": [
    "genres_list"
   ]
  },
  {
   "cell_type": "code",
   "execution_count": 28,
   "metadata": {},
   "outputs": [],
   "source": [
    "genres_dict = {}"
   ]
  },
  {
   "cell_type": "code",
   "execution_count": 29,
   "metadata": {},
   "outputs": [],
   "source": [
    "for j in full_list_2['genres']:\n",
    "    words = j.split(',')\n",
    "    for k in words:\n",
    "        if k not in genres_dict:\n",
    "            genres_dict[k] = 1\n",
    "        else:\n",
    "            genres_dict[k] += 1            "
   ]
  },
  {
   "cell_type": "code",
   "execution_count": 30,
   "metadata": {},
   "outputs": [
    {
     "data": {
      "text/plain": [
       "{'Action': 6865,\n",
       " 'Thriller': 8874,\n",
       " 'Drama': 31832,\n",
       " 'Romance': 6305,\n",
       " 'Horror': 7809,\n",
       " 'Sci-Fi': 2540,\n",
       " 'Mystery': 3208,\n",
       " 'Adventure': 3241,\n",
       " 'Animation': 2019,\n",
       " 'Crime': 4399,\n",
       " 'Comedy': 16691,\n",
       " 'Fantasy': 2470,\n",
       " 'Family': 3088,\n",
       " 'Music': 1193,\n",
       " 'History': 1229,\n",
       " 'War': 579,\n",
       " 'Musical': 816,\n",
       " 'Biography': 1467,\n",
       " 'Sport': 637}"
      ]
     },
     "execution_count": 30,
     "metadata": {},
     "output_type": "execute_result"
    }
   ],
   "source": [
    "genres_dict"
   ]
  },
  {
   "cell_type": "code",
   "execution_count": 31,
   "metadata": {},
   "outputs": [],
   "source": [
    "full_list_2 = full_list_2.drop(['genres_2'], axis = 1)"
   ]
  },
  {
   "cell_type": "code",
   "execution_count": 32,
   "metadata": {},
   "outputs": [],
   "source": [
    "genres_list.append('Movie_ID')\n",
    "genres_list.append('Numpy_Img')"
   ]
  },
  {
   "cell_type": "code",
   "execution_count": 33,
   "metadata": {},
   "outputs": [],
   "source": [
    "genres_df = pd.DataFrame(columns=genres_list, index=range(30000))"
   ]
  },
  {
   "cell_type": "code",
   "execution_count": 34,
   "metadata": {},
   "outputs": [],
   "source": [
    "subset_df = full_list_2.loc[:1000]"
   ]
  },
  {
   "cell_type": "code",
   "execution_count": 35,
   "metadata": {},
   "outputs": [],
   "source": [
    "KEY = 'a997c6a74e5b2d33c1e329b556a1769d'"
   ]
  },
  {
   "cell_type": "code",
   "execution_count": 36,
   "metadata": {},
   "outputs": [],
   "source": [
    "count_var = 0"
   ]
  },
  {
   "cell_type": "code",
   "execution_count": 37,
   "metadata": {},
   "outputs": [],
   "source": [
    "import cv2\n",
    "from IPython.display import Image \n",
    "from PIL import Image\n",
    "import requests\n",
    "from io import BytesIO\n",
    "import matplotlib.pyplot as plt\n",
    "#from scikit-image import io"
   ]
  },
  {
   "cell_type": "code",
   "execution_count": 38,
   "metadata": {},
   "outputs": [],
   "source": [
    "for index, i in subset_df.iterrows():\n",
    "    IMG_PATTERN = 'http://api.themoviedb.org/3/movie/{imdbid}/images?api_key={key}' \n",
    "    r = requests.get(IMG_PATTERN.format(key=KEY,imdbid=i[0]))\n",
    "    api_response = r.json()\n",
    "    try:\n",
    "        posters = api_response['posters']\n",
    "    except KeyError:\n",
    "        continue\n",
    "    \n",
    "    base_url = 'http://image.tmdb.org/t/p/'\n",
    "    max_size = 'w342'\n",
    "    try:\n",
    "        rel_path = posters[0]['file_path']\n",
    "    except IndexError:\n",
    "        continue\n",
    "    url = \"{0}{1}{2}\".format(base_url, max_size, rel_path) \n",
    "      \n",
    "    try:\n",
    "        resp = urllib.request.urlopen(url)\n",
    "        image = np.asarray(bytearray(resp.read()), dtype='uint8')\n",
    "        image = cv2.imdecode(image, cv2.IMREAD_COLOR)  \n",
    "        new_img = cv2.resize(image, (224,224), interpolation=cv2.INTER_CUBIC)\n",
    "        someRowNumber = count_var\n",
    "        words = i[4].split(',')\n",
    "        genres_df.loc[genres_df.index[someRowNumber], 'Movie_ID'] = i[0]\n",
    "        genres_df.loc[genres_df.index[someRowNumber], 'Numpy_Img'] = new_img\n",
    "        for k in words:\n",
    "            genres_df.loc[genres_df.index[someRowNumber], k] = 1.0\n",
    "        count_var += 1\n",
    "    except urllib.error.URLError as e:\n",
    "        print(e.reason)       \n",
    "    "
   ]
  },
  {
   "cell_type": "code",
   "execution_count": 39,
   "metadata": {},
   "outputs": [],
   "source": [
    "collected_images = genres_df.loc[genres_df['Numpy_Img'].notnull()]"
   ]
  },
  {
   "cell_type": "code",
   "execution_count": 40,
   "metadata": {},
   "outputs": [],
   "source": [
    "collected_images = collected_images.drop(['Movie_ID'], axis = 1)"
   ]
  },
  {
   "cell_type": "code",
   "execution_count": 41,
   "metadata": {},
   "outputs": [
    {
     "data": {
      "text/plain": [
       "68"
      ]
     },
     "execution_count": 41,
     "metadata": {},
     "output_type": "execute_result"
    }
   ],
   "source": [
    "len(collected_images)"
   ]
  },
  {
   "cell_type": "code",
   "execution_count": 42,
   "metadata": {},
   "outputs": [
    {
     "data": {
      "text/html": [
       "<div>\n",
       "<style scoped>\n",
       "    .dataframe tbody tr th:only-of-type {\n",
       "        vertical-align: middle;\n",
       "    }\n",
       "\n",
       "    .dataframe tbody tr th {\n",
       "        vertical-align: top;\n",
       "    }\n",
       "\n",
       "    .dataframe thead th {\n",
       "        text-align: right;\n",
       "    }\n",
       "</style>\n",
       "<table border=\"1\" class=\"dataframe\">\n",
       "  <thead>\n",
       "    <tr style=\"text-align: right;\">\n",
       "      <th></th>\n",
       "      <th>Action</th>\n",
       "      <th>Thriller</th>\n",
       "      <th>Drama</th>\n",
       "      <th>Romance</th>\n",
       "      <th>Horror</th>\n",
       "      <th>Sci-Fi</th>\n",
       "      <th>Mystery</th>\n",
       "      <th>Adventure</th>\n",
       "      <th>Animation</th>\n",
       "      <th>Crime</th>\n",
       "      <th>Comedy</th>\n",
       "      <th>Fantasy</th>\n",
       "      <th>Family</th>\n",
       "      <th>Music</th>\n",
       "      <th>History</th>\n",
       "      <th>War</th>\n",
       "      <th>Musical</th>\n",
       "      <th>Biography</th>\n",
       "      <th>Sport</th>\n",
       "      <th>Numpy_Img</th>\n",
       "    </tr>\n",
       "  </thead>\n",
       "  <tbody>\n",
       "    <tr>\n",
       "      <th>0</th>\n",
       "      <td>NaN</td>\n",
       "      <td>NaN</td>\n",
       "      <td>NaN</td>\n",
       "      <td>NaN</td>\n",
       "      <td>NaN</td>\n",
       "      <td>1</td>\n",
       "      <td>NaN</td>\n",
       "      <td>NaN</td>\n",
       "      <td>1</td>\n",
       "      <td>NaN</td>\n",
       "      <td>NaN</td>\n",
       "      <td>NaN</td>\n",
       "      <td>NaN</td>\n",
       "      <td>NaN</td>\n",
       "      <td>NaN</td>\n",
       "      <td>NaN</td>\n",
       "      <td>NaN</td>\n",
       "      <td>NaN</td>\n",
       "      <td>NaN</td>\n",
       "      <td>[[[4, 0, 1], [4, 0, 0], [4, 0, 0], [3, 1, 0], ...</td>\n",
       "    </tr>\n",
       "    <tr>\n",
       "      <th>1</th>\n",
       "      <td>NaN</td>\n",
       "      <td>NaN</td>\n",
       "      <td>NaN</td>\n",
       "      <td>NaN</td>\n",
       "      <td>NaN</td>\n",
       "      <td>NaN</td>\n",
       "      <td>NaN</td>\n",
       "      <td>NaN</td>\n",
       "      <td>NaN</td>\n",
       "      <td>NaN</td>\n",
       "      <td>1</td>\n",
       "      <td>NaN</td>\n",
       "      <td>NaN</td>\n",
       "      <td>NaN</td>\n",
       "      <td>NaN</td>\n",
       "      <td>NaN</td>\n",
       "      <td>NaN</td>\n",
       "      <td>NaN</td>\n",
       "      <td>NaN</td>\n",
       "      <td>[[[58, 194, 170], [58, 194, 170], [58, 194, 17...</td>\n",
       "    </tr>\n",
       "    <tr>\n",
       "      <th>2</th>\n",
       "      <td>NaN</td>\n",
       "      <td>NaN</td>\n",
       "      <td>1</td>\n",
       "      <td>NaN</td>\n",
       "      <td>NaN</td>\n",
       "      <td>NaN</td>\n",
       "      <td>NaN</td>\n",
       "      <td>NaN</td>\n",
       "      <td>NaN</td>\n",
       "      <td>NaN</td>\n",
       "      <td>NaN</td>\n",
       "      <td>NaN</td>\n",
       "      <td>NaN</td>\n",
       "      <td>NaN</td>\n",
       "      <td>NaN</td>\n",
       "      <td>NaN</td>\n",
       "      <td>NaN</td>\n",
       "      <td>NaN</td>\n",
       "      <td>NaN</td>\n",
       "      <td>[[[17, 27, 27], [13, 23, 23], [9, 19, 19], [7,...</td>\n",
       "    </tr>\n",
       "    <tr>\n",
       "      <th>3</th>\n",
       "      <td>NaN</td>\n",
       "      <td>1</td>\n",
       "      <td>1</td>\n",
       "      <td>NaN</td>\n",
       "      <td>1</td>\n",
       "      <td>NaN</td>\n",
       "      <td>NaN</td>\n",
       "      <td>NaN</td>\n",
       "      <td>NaN</td>\n",
       "      <td>NaN</td>\n",
       "      <td>NaN</td>\n",
       "      <td>NaN</td>\n",
       "      <td>NaN</td>\n",
       "      <td>NaN</td>\n",
       "      <td>NaN</td>\n",
       "      <td>NaN</td>\n",
       "      <td>NaN</td>\n",
       "      <td>NaN</td>\n",
       "      <td>NaN</td>\n",
       "      <td>[[[235, 235, 235], [239, 239, 239], [228, 228,...</td>\n",
       "    </tr>\n",
       "    <tr>\n",
       "      <th>4</th>\n",
       "      <td>NaN</td>\n",
       "      <td>NaN</td>\n",
       "      <td>1</td>\n",
       "      <td>NaN</td>\n",
       "      <td>NaN</td>\n",
       "      <td>NaN</td>\n",
       "      <td>NaN</td>\n",
       "      <td>NaN</td>\n",
       "      <td>NaN</td>\n",
       "      <td>NaN</td>\n",
       "      <td>1</td>\n",
       "      <td>NaN</td>\n",
       "      <td>NaN</td>\n",
       "      <td>NaN</td>\n",
       "      <td>NaN</td>\n",
       "      <td>NaN</td>\n",
       "      <td>NaN</td>\n",
       "      <td>NaN</td>\n",
       "      <td>NaN</td>\n",
       "      <td>[[[235, 234, 238], [236, 235, 239], [236, 235,...</td>\n",
       "    </tr>\n",
       "  </tbody>\n",
       "</table>\n",
       "</div>"
      ],
      "text/plain": [
       "  Action Thriller Drama Romance Horror Sci-Fi Mystery Adventure Animation  \\\n",
       "0    NaN      NaN   NaN     NaN    NaN      1     NaN       NaN         1   \n",
       "1    NaN      NaN   NaN     NaN    NaN    NaN     NaN       NaN       NaN   \n",
       "2    NaN      NaN     1     NaN    NaN    NaN     NaN       NaN       NaN   \n",
       "3    NaN        1     1     NaN      1    NaN     NaN       NaN       NaN   \n",
       "4    NaN      NaN     1     NaN    NaN    NaN     NaN       NaN       NaN   \n",
       "\n",
       "  Crime Comedy Fantasy Family Music History  War Musical Biography Sport  \\\n",
       "0   NaN    NaN     NaN    NaN   NaN     NaN  NaN     NaN       NaN   NaN   \n",
       "1   NaN      1     NaN    NaN   NaN     NaN  NaN     NaN       NaN   NaN   \n",
       "2   NaN    NaN     NaN    NaN   NaN     NaN  NaN     NaN       NaN   NaN   \n",
       "3   NaN    NaN     NaN    NaN   NaN     NaN  NaN     NaN       NaN   NaN   \n",
       "4   NaN      1     NaN    NaN   NaN     NaN  NaN     NaN       NaN   NaN   \n",
       "\n",
       "                                           Numpy_Img  \n",
       "0  [[[4, 0, 1], [4, 0, 0], [4, 0, 0], [3, 1, 0], ...  \n",
       "1  [[[58, 194, 170], [58, 194, 170], [58, 194, 17...  \n",
       "2  [[[17, 27, 27], [13, 23, 23], [9, 19, 19], [7,...  \n",
       "3  [[[235, 235, 235], [239, 239, 239], [228, 228,...  \n",
       "4  [[[235, 234, 238], [236, 235, 239], [236, 235,...  "
      ]
     },
     "execution_count": 42,
     "metadata": {},
     "output_type": "execute_result"
    }
   ],
   "source": [
    "collected_images.head()"
   ]
  },
  {
   "cell_type": "code",
   "execution_count": 43,
   "metadata": {},
   "outputs": [],
   "source": [
    "collected_images_df = collected_images.fillna(0)"
   ]
  },
  {
   "cell_type": "code",
   "execution_count": 44,
   "metadata": {},
   "outputs": [
    {
     "data": {
      "text/html": [
       "<div>\n",
       "<style scoped>\n",
       "    .dataframe tbody tr th:only-of-type {\n",
       "        vertical-align: middle;\n",
       "    }\n",
       "\n",
       "    .dataframe tbody tr th {\n",
       "        vertical-align: top;\n",
       "    }\n",
       "\n",
       "    .dataframe thead th {\n",
       "        text-align: right;\n",
       "    }\n",
       "</style>\n",
       "<table border=\"1\" class=\"dataframe\">\n",
       "  <thead>\n",
       "    <tr style=\"text-align: right;\">\n",
       "      <th></th>\n",
       "      <th>Action</th>\n",
       "      <th>Thriller</th>\n",
       "      <th>Drama</th>\n",
       "      <th>Romance</th>\n",
       "      <th>Horror</th>\n",
       "      <th>Sci-Fi</th>\n",
       "      <th>Mystery</th>\n",
       "      <th>Adventure</th>\n",
       "      <th>Animation</th>\n",
       "      <th>Crime</th>\n",
       "      <th>Comedy</th>\n",
       "      <th>Fantasy</th>\n",
       "      <th>Family</th>\n",
       "      <th>Music</th>\n",
       "      <th>History</th>\n",
       "      <th>War</th>\n",
       "      <th>Musical</th>\n",
       "      <th>Biography</th>\n",
       "      <th>Sport</th>\n",
       "      <th>Numpy_Img</th>\n",
       "    </tr>\n",
       "  </thead>\n",
       "  <tbody>\n",
       "    <tr>\n",
       "      <th>0</th>\n",
       "      <td>0.0</td>\n",
       "      <td>0.0</td>\n",
       "      <td>0.0</td>\n",
       "      <td>0.0</td>\n",
       "      <td>0.0</td>\n",
       "      <td>1.0</td>\n",
       "      <td>0.0</td>\n",
       "      <td>0</td>\n",
       "      <td>1.0</td>\n",
       "      <td>0.0</td>\n",
       "      <td>0.0</td>\n",
       "      <td>0.0</td>\n",
       "      <td>0.0</td>\n",
       "      <td>0.0</td>\n",
       "      <td>0.0</td>\n",
       "      <td>0</td>\n",
       "      <td>0.0</td>\n",
       "      <td>0.0</td>\n",
       "      <td>0</td>\n",
       "      <td>[[[4, 0, 1], [4, 0, 0], [4, 0, 0], [3, 1, 0], ...</td>\n",
       "    </tr>\n",
       "    <tr>\n",
       "      <th>1</th>\n",
       "      <td>0.0</td>\n",
       "      <td>0.0</td>\n",
       "      <td>0.0</td>\n",
       "      <td>0.0</td>\n",
       "      <td>0.0</td>\n",
       "      <td>0.0</td>\n",
       "      <td>0.0</td>\n",
       "      <td>0</td>\n",
       "      <td>0.0</td>\n",
       "      <td>0.0</td>\n",
       "      <td>1.0</td>\n",
       "      <td>0.0</td>\n",
       "      <td>0.0</td>\n",
       "      <td>0.0</td>\n",
       "      <td>0.0</td>\n",
       "      <td>0</td>\n",
       "      <td>0.0</td>\n",
       "      <td>0.0</td>\n",
       "      <td>0</td>\n",
       "      <td>[[[58, 194, 170], [58, 194, 170], [58, 194, 17...</td>\n",
       "    </tr>\n",
       "    <tr>\n",
       "      <th>2</th>\n",
       "      <td>0.0</td>\n",
       "      <td>0.0</td>\n",
       "      <td>1.0</td>\n",
       "      <td>0.0</td>\n",
       "      <td>0.0</td>\n",
       "      <td>0.0</td>\n",
       "      <td>0.0</td>\n",
       "      <td>0</td>\n",
       "      <td>0.0</td>\n",
       "      <td>0.0</td>\n",
       "      <td>0.0</td>\n",
       "      <td>0.0</td>\n",
       "      <td>0.0</td>\n",
       "      <td>0.0</td>\n",
       "      <td>0.0</td>\n",
       "      <td>0</td>\n",
       "      <td>0.0</td>\n",
       "      <td>0.0</td>\n",
       "      <td>0</td>\n",
       "      <td>[[[17, 27, 27], [13, 23, 23], [9, 19, 19], [7,...</td>\n",
       "    </tr>\n",
       "    <tr>\n",
       "      <th>3</th>\n",
       "      <td>0.0</td>\n",
       "      <td>1.0</td>\n",
       "      <td>1.0</td>\n",
       "      <td>0.0</td>\n",
       "      <td>1.0</td>\n",
       "      <td>0.0</td>\n",
       "      <td>0.0</td>\n",
       "      <td>0</td>\n",
       "      <td>0.0</td>\n",
       "      <td>0.0</td>\n",
       "      <td>0.0</td>\n",
       "      <td>0.0</td>\n",
       "      <td>0.0</td>\n",
       "      <td>0.0</td>\n",
       "      <td>0.0</td>\n",
       "      <td>0</td>\n",
       "      <td>0.0</td>\n",
       "      <td>0.0</td>\n",
       "      <td>0</td>\n",
       "      <td>[[[235, 235, 235], [239, 239, 239], [228, 228,...</td>\n",
       "    </tr>\n",
       "    <tr>\n",
       "      <th>4</th>\n",
       "      <td>0.0</td>\n",
       "      <td>0.0</td>\n",
       "      <td>1.0</td>\n",
       "      <td>0.0</td>\n",
       "      <td>0.0</td>\n",
       "      <td>0.0</td>\n",
       "      <td>0.0</td>\n",
       "      <td>0</td>\n",
       "      <td>0.0</td>\n",
       "      <td>0.0</td>\n",
       "      <td>1.0</td>\n",
       "      <td>0.0</td>\n",
       "      <td>0.0</td>\n",
       "      <td>0.0</td>\n",
       "      <td>0.0</td>\n",
       "      <td>0</td>\n",
       "      <td>0.0</td>\n",
       "      <td>0.0</td>\n",
       "      <td>0</td>\n",
       "      <td>[[[235, 234, 238], [236, 235, 239], [236, 235,...</td>\n",
       "    </tr>\n",
       "  </tbody>\n",
       "</table>\n",
       "</div>"
      ],
      "text/plain": [
       "   Action  Thriller  Drama  Romance  Horror  Sci-Fi  Mystery  Adventure  \\\n",
       "0     0.0       0.0    0.0      0.0     0.0     1.0      0.0          0   \n",
       "1     0.0       0.0    0.0      0.0     0.0     0.0      0.0          0   \n",
       "2     0.0       0.0    1.0      0.0     0.0     0.0      0.0          0   \n",
       "3     0.0       1.0    1.0      0.0     1.0     0.0      0.0          0   \n",
       "4     0.0       0.0    1.0      0.0     0.0     0.0      0.0          0   \n",
       "\n",
       "   Animation  Crime  Comedy  Fantasy  Family  Music  History  War  Musical  \\\n",
       "0        1.0    0.0     0.0      0.0     0.0    0.0      0.0    0      0.0   \n",
       "1        0.0    0.0     1.0      0.0     0.0    0.0      0.0    0      0.0   \n",
       "2        0.0    0.0     0.0      0.0     0.0    0.0      0.0    0      0.0   \n",
       "3        0.0    0.0     0.0      0.0     0.0    0.0      0.0    0      0.0   \n",
       "4        0.0    0.0     1.0      0.0     0.0    0.0      0.0    0      0.0   \n",
       "\n",
       "   Biography  Sport                                          Numpy_Img  \n",
       "0        0.0      0  [[[4, 0, 1], [4, 0, 0], [4, 0, 0], [3, 1, 0], ...  \n",
       "1        0.0      0  [[[58, 194, 170], [58, 194, 170], [58, 194, 17...  \n",
       "2        0.0      0  [[[17, 27, 27], [13, 23, 23], [9, 19, 19], [7,...  \n",
       "3        0.0      0  [[[235, 235, 235], [239, 239, 239], [228, 228,...  \n",
       "4        0.0      0  [[[235, 234, 238], [236, 235, 239], [236, 235,...  "
      ]
     },
     "execution_count": 44,
     "metadata": {},
     "output_type": "execute_result"
    }
   ],
   "source": [
    "collected_images_df.head()"
   ]
  },
  {
   "cell_type": "code",
   "execution_count": 45,
   "metadata": {},
   "outputs": [],
   "source": [
    "train=collected_images_df.sample(frac=0.8,random_state=42)\n",
    "test=collected_images_df.drop(train.index)"
   ]
  },
  {
   "cell_type": "code",
   "execution_count": 46,
   "metadata": {},
   "outputs": [
    {
     "data": {
      "text/plain": [
       "54"
      ]
     },
     "execution_count": 46,
     "metadata": {},
     "output_type": "execute_result"
    }
   ],
   "source": [
    "len(train)"
   ]
  },
  {
   "cell_type": "code",
   "execution_count": 66,
   "metadata": {},
   "outputs": [
    {
     "data": {
      "text/html": [
       "<div>\n",
       "<style scoped>\n",
       "    .dataframe tbody tr th:only-of-type {\n",
       "        vertical-align: middle;\n",
       "    }\n",
       "\n",
       "    .dataframe tbody tr th {\n",
       "        vertical-align: top;\n",
       "    }\n",
       "\n",
       "    .dataframe thead th {\n",
       "        text-align: right;\n",
       "    }\n",
       "</style>\n",
       "<table border=\"1\" class=\"dataframe\">\n",
       "  <thead>\n",
       "    <tr style=\"text-align: right;\">\n",
       "      <th></th>\n",
       "      <th>Action</th>\n",
       "      <th>Thriller</th>\n",
       "      <th>Drama</th>\n",
       "      <th>Romance</th>\n",
       "      <th>Horror</th>\n",
       "      <th>Sci-Fi</th>\n",
       "      <th>Mystery</th>\n",
       "      <th>Adventure</th>\n",
       "      <th>Animation</th>\n",
       "      <th>Crime</th>\n",
       "      <th>Comedy</th>\n",
       "      <th>Fantasy</th>\n",
       "      <th>Family</th>\n",
       "      <th>Music</th>\n",
       "      <th>History</th>\n",
       "      <th>War</th>\n",
       "      <th>Musical</th>\n",
       "      <th>Biography</th>\n",
       "      <th>Sport</th>\n",
       "      <th>Numpy_Img</th>\n",
       "    </tr>\n",
       "  </thead>\n",
       "  <tbody>\n",
       "    <tr>\n",
       "      <th>46</th>\n",
       "      <td>0.0</td>\n",
       "      <td>0.0</td>\n",
       "      <td>1.0</td>\n",
       "      <td>1.0</td>\n",
       "      <td>0.0</td>\n",
       "      <td>0.0</td>\n",
       "      <td>0.0</td>\n",
       "      <td>0</td>\n",
       "      <td>0.0</td>\n",
       "      <td>0.0</td>\n",
       "      <td>1.0</td>\n",
       "      <td>0.0</td>\n",
       "      <td>0.0</td>\n",
       "      <td>0.0</td>\n",
       "      <td>0.0</td>\n",
       "      <td>0</td>\n",
       "      <td>0.0</td>\n",
       "      <td>0.0</td>\n",
       "      <td>0</td>\n",
       "      <td>[[[85, 175, 216], [85, 175, 216], [85, 175, 21...</td>\n",
       "    </tr>\n",
       "    <tr>\n",
       "      <th>16</th>\n",
       "      <td>0.0</td>\n",
       "      <td>0.0</td>\n",
       "      <td>1.0</td>\n",
       "      <td>0.0</td>\n",
       "      <td>0.0</td>\n",
       "      <td>0.0</td>\n",
       "      <td>0.0</td>\n",
       "      <td>0</td>\n",
       "      <td>0.0</td>\n",
       "      <td>0.0</td>\n",
       "      <td>0.0</td>\n",
       "      <td>0.0</td>\n",
       "      <td>0.0</td>\n",
       "      <td>0.0</td>\n",
       "      <td>0.0</td>\n",
       "      <td>0</td>\n",
       "      <td>0.0</td>\n",
       "      <td>0.0</td>\n",
       "      <td>0</td>\n",
       "      <td>[[[234, 235, 233], [236, 237, 235], [236, 237,...</td>\n",
       "    </tr>\n",
       "    <tr>\n",
       "      <th>4</th>\n",
       "      <td>0.0</td>\n",
       "      <td>0.0</td>\n",
       "      <td>1.0</td>\n",
       "      <td>0.0</td>\n",
       "      <td>0.0</td>\n",
       "      <td>0.0</td>\n",
       "      <td>0.0</td>\n",
       "      <td>0</td>\n",
       "      <td>0.0</td>\n",
       "      <td>0.0</td>\n",
       "      <td>1.0</td>\n",
       "      <td>0.0</td>\n",
       "      <td>0.0</td>\n",
       "      <td>0.0</td>\n",
       "      <td>0.0</td>\n",
       "      <td>0</td>\n",
       "      <td>0.0</td>\n",
       "      <td>0.0</td>\n",
       "      <td>0</td>\n",
       "      <td>[[[235, 234, 238], [236, 235, 239], [236, 235,...</td>\n",
       "    </tr>\n",
       "    <tr>\n",
       "      <th>9</th>\n",
       "      <td>0.0</td>\n",
       "      <td>0.0</td>\n",
       "      <td>0.0</td>\n",
       "      <td>0.0</td>\n",
       "      <td>0.0</td>\n",
       "      <td>0.0</td>\n",
       "      <td>0.0</td>\n",
       "      <td>0</td>\n",
       "      <td>0.0</td>\n",
       "      <td>0.0</td>\n",
       "      <td>1.0</td>\n",
       "      <td>0.0</td>\n",
       "      <td>0.0</td>\n",
       "      <td>0.0</td>\n",
       "      <td>0.0</td>\n",
       "      <td>0</td>\n",
       "      <td>0.0</td>\n",
       "      <td>0.0</td>\n",
       "      <td>0</td>\n",
       "      <td>[[[226, 224, 224], [226, 224, 223], [226, 224,...</td>\n",
       "    </tr>\n",
       "    <tr>\n",
       "      <th>28</th>\n",
       "      <td>0.0</td>\n",
       "      <td>0.0</td>\n",
       "      <td>0.0</td>\n",
       "      <td>1.0</td>\n",
       "      <td>0.0</td>\n",
       "      <td>0.0</td>\n",
       "      <td>0.0</td>\n",
       "      <td>0</td>\n",
       "      <td>0.0</td>\n",
       "      <td>0.0</td>\n",
       "      <td>1.0</td>\n",
       "      <td>0.0</td>\n",
       "      <td>0.0</td>\n",
       "      <td>0.0</td>\n",
       "      <td>0.0</td>\n",
       "      <td>0</td>\n",
       "      <td>0.0</td>\n",
       "      <td>0.0</td>\n",
       "      <td>0</td>\n",
       "      <td>[[[255, 255, 255], [255, 255, 255], [255, 255,...</td>\n",
       "    </tr>\n",
       "  </tbody>\n",
       "</table>\n",
       "</div>"
      ],
      "text/plain": [
       "    Action  Thriller  Drama  Romance  Horror  Sci-Fi  Mystery  Adventure  \\\n",
       "46     0.0       0.0    1.0      1.0     0.0     0.0      0.0          0   \n",
       "16     0.0       0.0    1.0      0.0     0.0     0.0      0.0          0   \n",
       "4      0.0       0.0    1.0      0.0     0.0     0.0      0.0          0   \n",
       "9      0.0       0.0    0.0      0.0     0.0     0.0      0.0          0   \n",
       "28     0.0       0.0    0.0      1.0     0.0     0.0      0.0          0   \n",
       "\n",
       "    Animation  Crime  Comedy  Fantasy  Family  Music  History  War  Musical  \\\n",
       "46        0.0    0.0     1.0      0.0     0.0    0.0      0.0    0      0.0   \n",
       "16        0.0    0.0     0.0      0.0     0.0    0.0      0.0    0      0.0   \n",
       "4         0.0    0.0     1.0      0.0     0.0    0.0      0.0    0      0.0   \n",
       "9         0.0    0.0     1.0      0.0     0.0    0.0      0.0    0      0.0   \n",
       "28        0.0    0.0     1.0      0.0     0.0    0.0      0.0    0      0.0   \n",
       "\n",
       "    Biography  Sport                                          Numpy_Img  \n",
       "46        0.0      0  [[[85, 175, 216], [85, 175, 216], [85, 175, 21...  \n",
       "16        0.0      0  [[[234, 235, 233], [236, 237, 235], [236, 237,...  \n",
       "4         0.0      0  [[[235, 234, 238], [236, 235, 239], [236, 235,...  \n",
       "9         0.0      0  [[[226, 224, 224], [226, 224, 223], [226, 224,...  \n",
       "28        0.0      0  [[[255, 255, 255], [255, 255, 255], [255, 255,...  "
      ]
     },
     "execution_count": 66,
     "metadata": {},
     "output_type": "execute_result"
    }
   ],
   "source": [
    "train.head()"
   ]
  },
  {
   "cell_type": "code",
   "execution_count": 47,
   "metadata": {},
   "outputs": [
    {
     "data": {
      "text/plain": [
       "14"
      ]
     },
     "execution_count": 47,
     "metadata": {},
     "output_type": "execute_result"
    }
   ],
   "source": [
    "len(test)"
   ]
  },
  {
   "cell_type": "code",
   "execution_count": 48,
   "metadata": {},
   "outputs": [
    {
     "data": {
      "text/plain": [
       "<matplotlib.image.AxesImage at 0x194457a3d30>"
      ]
     },
     "execution_count": 48,
     "metadata": {},
     "output_type": "execute_result"
    },
    {
     "data": {
      "image/png": "[encoded data removed]",
      "text/plain": [
       "<Figure size 432x288 with 1 Axes>"
      ]
     },
     "metadata": {
      "needs_background": "light"
     },
     "output_type": "display_data"
    }
   ],
   "source": [
    "plt.imshow(train['Numpy_Img'][0])"
   ]
  },
  {
   "cell_type": "code",
   "execution_count": 49,
   "metadata": {},
   "outputs": [
    {
     "data": {
      "text/plain": [
       "(224, 224, 3)"
      ]
     },
     "execution_count": 49,
     "metadata": {},
     "output_type": "execute_result"
    }
   ],
   "source": [
    "train['Numpy_Img'][0].shape"
   ]
  },
  {
   "cell_type": "code",
   "execution_count": 50,
   "metadata": {},
   "outputs": [
    {
     "data": {
      "text/plain": [
       "numpy.ndarray"
      ]
     },
     "execution_count": 50,
     "metadata": {},
     "output_type": "execute_result"
    }
   ],
   "source": [
    "type(train['Numpy_Img'][0])"
   ]
  },
  {
   "cell_type": "code",
   "execution_count": 51,
   "metadata": {},
   "outputs": [],
   "source": [
    "train_mat = train.values"
   ]
  },
  {
   "cell_type": "code",
   "execution_count": 52,
   "metadata": {},
   "outputs": [],
   "source": [
    "test_mat = test.values"
   ]
  },
  {
   "cell_type": "code",
   "execution_count": 53,
   "metadata": {},
   "outputs": [
    {
     "data": {
      "text/plain": [
       "numpy.ndarray"
      ]
     },
     "execution_count": 53,
     "metadata": {},
     "output_type": "execute_result"
    }
   ],
   "source": [
    "type(train_mat)"
   ]
  },
  {
   "cell_type": "code",
   "execution_count": 60,
   "metadata": {},
   "outputs": [
    {
     "data": {
      "text/plain": [
       "(224, 224, 3)"
      ]
     },
     "execution_count": 60,
     "metadata": {},
     "output_type": "execute_result"
    }
   ],
   "source": [
    "train_mat[0,-1].shape"
   ]
  },
  {
   "cell_type": "code",
   "execution_count": 61,
   "metadata": {},
   "outputs": [],
   "source": [
    "np.save('train_img.npy', train_mat)"
   ]
  },
  {
   "cell_type": "code",
   "execution_count": 62,
   "metadata": {},
   "outputs": [],
   "source": [
    "np.save('test_img.npy', test_mat)"
   ]
  },
  {
   "cell_type": "code",
   "execution_count": 63,
   "metadata": {},
   "outputs": [],
   "source": [
    "train_imgs = np.load('train_img.npy')"
   ]
  },
  {
   "cell_type": "code",
   "execution_count": 64,
   "metadata": {},
   "outputs": [
    {
     "data": {
      "text/plain": [
       "54"
      ]
     },
     "execution_count": 64,
     "metadata": {},
     "output_type": "execute_result"
    }
   ],
   "source": [
    "len(train_imgs)"
   ]
  },
  {
   "cell_type": "code",
   "execution_count": 65,
   "metadata": {},
   "outputs": [
    {
     "data": {
      "text/plain": [
       "array([[0.0, 0.0, 1.0, 1.0, 0.0, 0.0, 0.0, 0, 0.0, 0.0, 1.0, 0.0, 0.0,\n",
       "        0.0, 0.0, 0, 0.0, 0.0, 0,\n",
       "        array([[[ 85, 175, 216],\n",
       "        [ 85, 175, 216],\n",
       "        [ 85, 175, 216],\n",
       "        ...,\n",
       "        [ 93, 180, 224],\n",
       "        [ 93, 180, 224],\n",
       "        [ 93, 180, 224]],\n",
       "\n",
       "       [[ 83, 170, 211],\n",
       "        [ 83, 170, 211],\n",
       "        [ 82, 170, 211],\n",
       "        ...,\n",
       "        [ 91, 178, 222],\n",
       "        [ 91, 178, 222],\n",
       "        [ 91, 178, 222]],\n",
       "\n",
       "       [[ 83, 168, 208],\n",
       "        [ 83, 168, 208],\n",
       "        [ 83, 168, 208],\n",
       "        ...,\n",
       "        [ 90, 177, 221],\n",
       "        [ 90, 177, 221],\n",
       "        [ 90, 177, 221]],\n",
       "\n",
       "       ...,\n",
       "\n",
       "       [[ 51,  25,   8],\n",
       "        [ 51,  25,   8],\n",
       "        [ 51,  25,   8],\n",
       "        ...,\n",
       "        [ 15,  11,  10],\n",
       "        [ 16,  12,  11],\n",
       "        [ 16,  12,  11]],\n",
       "\n",
       "       [[ 51,  25,   8],\n",
       "        [ 51,  25,   8],\n",
       "        [ 51,  25,   8],\n",
       "        ...,\n",
       "        [ 15,  11,  10],\n",
       "        [ 16,  12,  11],\n",
       "        [ 16,  12,  11]],\n",
       "\n",
       "       [[ 51,  25,   8],\n",
       "        [ 51,  25,   8],\n",
       "        [ 51,  25,   8],\n",
       "        ...,\n",
       "        [ 15,  11,  10],\n",
       "        [ 16,  12,  11],\n",
       "        [ 16,  12,  11]]], dtype=uint8)],\n",
       "       [0.0, 0.0, 1.0, 0.0, 0.0, 0.0, 0.0, 0, 0.0, 0.0, 0.0, 0.0, 0.0,\n",
       "        0.0, 0.0, 0, 0.0, 0.0, 0,\n",
       "        array([[[234, 235, 233],\n",
       "        [236, 237, 235],\n",
       "        [236, 237, 235],\n",
       "        ...,\n",
       "        [237, 237, 237],\n",
       "        [235, 235, 235],\n",
       "        [235, 235, 235]],\n",
       "\n",
       "       [[235, 236, 234],\n",
       "        [236, 237, 235],\n",
       "        [236, 237, 235],\n",
       "        ...,\n",
       "        [239, 239, 239],\n",
       "        [238, 238, 238],\n",
       "        [238, 238, 238]],\n",
       "\n",
       "       [[237, 238, 236],\n",
       "        [235, 236, 234],\n",
       "        [236, 237, 235],\n",
       "        ...,\n",
       "        [237, 237, 237],\n",
       "        [237, 237, 237],\n",
       "        [238, 238, 238]],\n",
       "\n",
       "       ...,\n",
       "\n",
       "       [[237, 238, 236],\n",
       "        [235, 236, 234],\n",
       "        [227, 228, 226],\n",
       "        ...,\n",
       "        [215, 218, 216],\n",
       "        [218, 221, 219],\n",
       "        [220, 223, 221]],\n",
       "\n",
       "       [[238, 239, 237],\n",
       "        [240, 241, 239],\n",
       "        [237, 238, 236],\n",
       "        ...,\n",
       "        [215, 219, 213],\n",
       "        [216, 220, 215],\n",
       "        [217, 221, 216]],\n",
       "\n",
       "       [[237, 238, 236],\n",
       "        [242, 243, 241],\n",
       "        [242, 243, 241],\n",
       "        ...,\n",
       "        [223, 227, 222],\n",
       "        [221, 225, 220],\n",
       "        [221, 225, 220]]], dtype=uint8)],\n",
       "       [0.0, 0.0, 1.0, 0.0, 0.0, 0.0, 0.0, 0, 0.0, 0.0, 1.0, 0.0, 0.0,\n",
       "        0.0, 0.0, 0, 0.0, 0.0, 0,\n",
       "        array([[[235, 234, 238],\n",
       "        [236, 235, 239],\n",
       "        [236, 235, 239],\n",
       "        ...,\n",
       "        [255, 255, 255],\n",
       "        [255, 255, 255],\n",
       "        [255, 255, 255]],\n",
       "\n",
       "       [[240, 239, 243],\n",
       "        [239, 238, 242],\n",
       "        [240, 239, 243],\n",
       "        ...,\n",
       "        [255, 255, 255],\n",
       "        [255, 255, 255],\n",
       "        [255, 255, 255]],\n",
       "\n",
       "       [[242, 241, 245],\n",
       "        [242, 241, 245],\n",
       "        [243, 242, 246],\n",
       "        ...,\n",
       "        [255, 255, 255],\n",
       "        [255, 255, 255],\n",
       "        [255, 255, 255]],\n",
       "\n",
       "       ...,\n",
       "\n",
       "       [[110, 220, 245],\n",
       "        [101, 207, 230],\n",
       "        [113, 212, 234],\n",
       "        ...,\n",
       "        [175, 220, 233],\n",
       "        [183, 228, 241],\n",
       "        [190, 234, 247]],\n",
       "\n",
       "       [[106, 212, 235],\n",
       "        [102, 206, 229],\n",
       "        [119, 220, 241],\n",
       "        ...,\n",
       "        [169, 215, 226],\n",
       "        [180, 226, 237],\n",
       "        [184, 230, 241]],\n",
       "\n",
       "       [[109, 215, 238],\n",
       "        [106, 211, 233],\n",
       "        [112, 212, 234],\n",
       "        ...,\n",
       "        [175, 221, 232],\n",
       "        [173, 219, 230],\n",
       "        [174, 220, 231]]], dtype=uint8)],\n",
       "       [0.0, 0.0, 0.0, 0.0, 0.0, 0.0, 0.0, 0, 0.0, 0.0, 1.0, 0.0, 0.0,\n",
       "        0.0, 0.0, 0, 0.0, 0.0, 0,\n",
       "        array([[[226, 224, 224],\n",
       "        [226, 224, 223],\n",
       "        [226, 224, 222],\n",
       "        ...,\n",
       "        [206, 201, 198],\n",
       "        [206, 201, 198],\n",
       "        [206, 201, 198]],\n",
       "\n",
       "       [[226, 224, 224],\n",
       "        [226, 224, 224],\n",
       "        [226, 224, 223],\n",
       "        ...,\n",
       "        [207, 202, 199],\n",
       "        [207, 202, 199],\n",
       "        [206, 201, 198]],\n",
       "\n",
       "       [[226, 224, 224],\n",
       "        [226, 224, 224],\n",
       "        [226, 224, 224],\n",
       "        ...,\n",
       "        [208, 203, 200],\n",
       "        [207, 202, 199],\n",
       "        [207, 202, 199]],\n",
       "\n",
       "       ...,\n",
       "\n",
       "       [[246, 246, 246],\n",
       "        [246, 246, 246],\n",
       "        [246, 246, 246],\n",
       "        ...,\n",
       "        [250, 250, 250],\n",
       "        [250, 250, 250],\n",
       "        [250, 250, 250]],\n",
       "\n",
       "       [[246, 246, 246],\n",
       "        [246, 246, 246],\n",
       "        [246, 246, 246],\n",
       "        ...,\n",
       "        [250, 250, 250],\n",
       "        [250, 250, 250],\n",
       "        [250, 250, 250]],\n",
       "\n",
       "       [[246, 246, 246],\n",
       "        [246, 246, 246],\n",
       "        [246, 246, 246],\n",
       "        ...,\n",
       "        [250, 250, 250],\n",
       "        [250, 250, 250],\n",
       "        [250, 250, 250]]], dtype=uint8)],\n",
       "       [0.0, 0.0, 0.0, 1.0, 0.0, 0.0, 0.0, 0, 0.0, 0.0, 1.0, 0.0, 0.0,\n",
       "        0.0, 0.0, 0, 0.0, 0.0, 0,\n",
       "        array([[[255, 255, 255],\n",
       "        [255, 255, 255],\n",
       "        [255, 255, 255],\n",
       "        ...,\n",
       "        [255, 255, 255],\n",
       "        [255, 255, 255],\n",
       "        [255, 255, 255]],\n",
       "\n",
       "       [[255, 255, 255],\n",
       "        [255, 255, 255],\n",
       "        [255, 255, 255],\n",
       "        ...,\n",
       "        [255, 255, 255],\n",
       "        [255, 255, 255],\n",
       "        [255, 255, 255]],\n",
       "\n",
       "       [[255, 255, 255],\n",
       "        [255, 255, 255],\n",
       "        [255, 255, 255],\n",
       "        ...,\n",
       "        [255, 255, 255],\n",
       "        [255, 255, 255],\n",
       "        [255, 255, 255]],\n",
       "\n",
       "       ...,\n",
       "\n",
       "       [[255, 255, 255],\n",
       "        [255, 255, 255],\n",
       "        [255, 255, 255],\n",
       "        ...,\n",
       "        [255, 255, 255],\n",
       "        [255, 255, 255],\n",
       "        [255, 255, 255]],\n",
       "\n",
       "       [[255, 255, 255],\n",
       "        [255, 255, 255],\n",
       "        [255, 255, 255],\n",
       "        ...,\n",
       "        [255, 255, 255],\n",
       "        [255, 255, 255],\n",
       "        [255, 255, 255]],\n",
       "\n",
       "       [[255, 255, 255],\n",
       "        [255, 255, 255],\n",
       "        [255, 255, 255],\n",
       "        ...,\n",
       "        [255, 255, 255],\n",
       "        [255, 255, 255],\n",
       "        [255, 255, 255]]], dtype=uint8)]], dtype=object)"
      ]
     },
     "execution_count": 65,
     "metadata": {},
     "output_type": "execute_result"
    }
   ],
   "source": [
    "train_imgs[:5, :]"
   ]
  }
 ],
 "metadata": {
  "kernelspec": {
   "display_name": "py36-t",
   "language": "python",
   "name": "py36-t"
  },
  "language_info": {
   "codemirror_mode": {
    "name": "ipython",
    "version": 3
   },
   "file_extension": ".py",
   "mimetype": "text/x-python",
   "name": "python",
   "nbconvert_exporter": "python",
   "pygments_lexer": "ipython3",
   "version": "3.6.6"
  }
 },
 "nbformat": 4,
 "nbformat_minor": 2
}
